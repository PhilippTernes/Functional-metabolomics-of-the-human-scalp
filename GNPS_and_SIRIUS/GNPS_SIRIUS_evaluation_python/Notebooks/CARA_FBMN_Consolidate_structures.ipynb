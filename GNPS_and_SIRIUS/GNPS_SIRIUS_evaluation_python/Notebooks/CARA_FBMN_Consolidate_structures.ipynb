{
 "cells": [
  {
   "cell_type": "markdown",
   "metadata": {},
   "source": [
    "# CARA C18pos - Convert/consolidate structure annotations FBMN\n",
    "\n"
   ]
  },
  {
   "cell_type": "code",
   "execution_count": 3,
   "metadata": {},
   "outputs": [],
   "source": [
    "from convert_structures import *"
   ]
  },
  {
   "cell_type": "markdown",
   "metadata": {},
   "source": [
    "## Load GNPS FBMN annotations"
   ]
  },
  {
   "cell_type": "code",
   "execution_count": 26,
   "metadata": {},
   "outputs": [],
   "source": [
    "path = \"Input/FBMN/HILICneg_feature_metadata.tsv\""
   ]
  },
  {
   "cell_type": "code",
   "execution_count": 27,
   "metadata": {},
   "outputs": [
    {
     "data": {
      "text/html": [
       "<div>\n",
       "<style scoped>\n",
       "    .dataframe tbody tr th:only-of-type {\n",
       "        vertical-align: middle;\n",
       "    }\n",
       "\n",
       "    .dataframe tbody tr th {\n",
       "        vertical-align: top;\n",
       "    }\n",
       "\n",
       "    .dataframe thead th {\n",
       "        text-align: right;\n",
       "    }\n",
       "</style>\n",
       "<table border=\"1\" class=\"dataframe\">\n",
       "  <thead>\n",
       "    <tr style=\"text-align: right;\">\n",
       "      <th></th>\n",
       "      <th>#featureID</th>\n",
       "      <th>GNPS_Annotated Adduct Features ID</th>\n",
       "      <th>GNPS_Best Ion</th>\n",
       "      <th>GNPS_Correlated Features Group ID</th>\n",
       "      <th>GNPS_G1</th>\n",
       "      <th>GNPS_G2</th>\n",
       "      <th>GNPS_G3</th>\n",
       "      <th>GNPS_G4</th>\n",
       "      <th>GNPS_G5</th>\n",
       "      <th>GNPS_G6</th>\n",
       "      <th>...</th>\n",
       "      <th>CSI_id</th>\n",
       "      <th>CAN_name</th>\n",
       "      <th>CAN_molecularFormula</th>\n",
       "      <th>CAN_adduct</th>\n",
       "      <th>CAN_most specific class</th>\n",
       "      <th>CAN_level 5</th>\n",
       "      <th>CAN_subclass</th>\n",
       "      <th>CAN_class</th>\n",
       "      <th>CAN_superclass</th>\n",
       "      <th>CAN_all classifications</th>\n",
       "    </tr>\n",
       "  </thead>\n",
       "  <tbody>\n",
       "    <tr>\n",
       "      <th>0</th>\n",
       "      <td>1</td>\n",
       "      <td></td>\n",
       "      <td></td>\n",
       "      <td></td>\n",
       "      <td>0.0</td>\n",
       "      <td>0.0</td>\n",
       "      <td>0.0</td>\n",
       "      <td>0.0</td>\n",
       "      <td>0.0</td>\n",
       "      <td>0.0</td>\n",
       "      <td>...</td>\n",
       "      <td>NaN</td>\n",
       "      <td>NaN</td>\n",
       "      <td>NaN</td>\n",
       "      <td>NaN</td>\n",
       "      <td>NaN</td>\n",
       "      <td>NaN</td>\n",
       "      <td>NaN</td>\n",
       "      <td>NaN</td>\n",
       "      <td>NaN</td>\n",
       "      <td>NaN</td>\n",
       "    </tr>\n",
       "    <tr>\n",
       "      <th>1</th>\n",
       "      <td>2</td>\n",
       "      <td></td>\n",
       "      <td></td>\n",
       "      <td>19.0</td>\n",
       "      <td>0.0</td>\n",
       "      <td>0.0</td>\n",
       "      <td>0.0</td>\n",
       "      <td>0.0</td>\n",
       "      <td>0.0</td>\n",
       "      <td>0.0</td>\n",
       "      <td>...</td>\n",
       "      <td>NaN</td>\n",
       "      <td>NaN</td>\n",
       "      <td>NaN</td>\n",
       "      <td>NaN</td>\n",
       "      <td>NaN</td>\n",
       "      <td>NaN</td>\n",
       "      <td>NaN</td>\n",
       "      <td>NaN</td>\n",
       "      <td>NaN</td>\n",
       "      <td>NaN</td>\n",
       "    </tr>\n",
       "  </tbody>\n",
       "</table>\n",
       "<p>2 rows × 191 columns</p>\n",
       "</div>"
      ],
      "text/plain": [
       "   #featureID GNPS_Annotated Adduct Features ID GNPS_Best Ion  \\\n",
       "0           1                                                   \n",
       "1           2                                                   \n",
       "\n",
       "  GNPS_Correlated Features Group ID  GNPS_G1  GNPS_G2  GNPS_G3  GNPS_G4  \\\n",
       "0                                        0.0      0.0      0.0      0.0   \n",
       "1                              19.0      0.0      0.0      0.0      0.0   \n",
       "\n",
       "   GNPS_G5  GNPS_G6           ...           CSI_id CAN_name  \\\n",
       "0      0.0      0.0           ...              NaN      NaN   \n",
       "1      0.0      0.0           ...              NaN      NaN   \n",
       "\n",
       "  CAN_molecularFormula CAN_adduct  CAN_most specific class CAN_level 5  \\\n",
       "0                  NaN        NaN                      NaN         NaN   \n",
       "1                  NaN        NaN                      NaN         NaN   \n",
       "\n",
       "   CAN_subclass  CAN_class  CAN_superclass CAN_all classifications  \n",
       "0           NaN        NaN             NaN                     NaN  \n",
       "1           NaN        NaN             NaN                     NaN  \n",
       "\n",
       "[2 rows x 191 columns]"
      ]
     },
     "execution_count": 27,
     "metadata": {},
     "output_type": "execute_result"
    }
   ],
   "source": [
    "# Read feature metadata table\n",
    "df = pd.read_csv(path, sep='\\t', header=0,low_memory=False)\n",
    "df.head(2)"
   ]
  },
  {
   "cell_type": "markdown",
   "metadata": {},
   "source": [
    "## Inspect the metadata"
   ]
  },
  {
   "cell_type": "code",
   "execution_count": 28,
   "metadata": {},
   "outputs": [
    {
     "name": "stdout",
     "output_type": "stream",
     "text": [
      "['GNPS_LIBA_SpectrumID', 'GNPS_LIBA_Compound_Name', 'GNPS_LIBA_Ion_Source', 'GNPS_LIBA_Instrument', 'GNPS_LIBA_Compound_Source', 'GNPS_LIBA_PI', 'GNPS_LIBA_Data_Collector', 'GNPS_LIBA_Adduct', 'GNPS_LIBA_Precursor_MZ', 'GNPS_LIBA_ExactMass', 'GNPS_LIBA_Charge', 'GNPS_LIBA_CAS_Number', 'GNPS_LIBA_Pubmed_ID', 'GNPS_LIBA_Smiles', 'GNPS_LIBA_INCHI', 'GNPS_LIBA_INCHI_AUX', 'GNPS_LIBA_Library_Class', 'GNPS_LIBA_IonMode', 'GNPS_LIBA_UpdateWorkflowName', 'GNPS_LIBA_LibraryQualityString', 'GNPS_LIBA_SpectrumFile', 'GNPS_LIBA_LibraryName', 'GNPS_LIBA_MQScore', 'GNPS_LIBA_Organism', 'GNPS_LIBA_TIC_Query', 'GNPS_LIBA_RT_Query', 'GNPS_LIBA_MZErrorPPM', 'GNPS_LIBA_SharedPeaks', 'GNPS_LIBA_MassDiff', 'GNPS_LIBA_LibMZ', 'GNPS_LIBA_SpecMZ', 'GNPS_LIBA_SpecCharge', 'GNPS_LIBA_FileScanUniqueID', 'GNPS_LIBA_NumberHits', 'GNPS_LIBA_tags', 'GNPS_LIBA_MoleculeExplorerDatasets', 'GNPS_LIBA_MoleculeExplorerFiles', 'GNPS_LIBA_InChIKey', 'GNPS_LIBA_InChIKey-Planar', 'GNPS_LIBA_superclass', 'GNPS_LIBA_class', 'GNPS_LIBA_subclass', 'GNPS_LIBA_npclassifier_superclass', 'GNPS_LIBA_npclassifier_class', 'GNPS_LIBA_npclassifier_pathway']\n"
     ]
    }
   ],
   "source": [
    "show_metadata_tools(df,'GNPS_LIBA_') #GNPS_LIB_ GNPS_LIBA, DEREP_, DEREP+_, CSI_"
   ]
  },
  {
   "cell_type": "markdown",
   "metadata": {},
   "source": [
    "## Select the columns and convert/consolidate"
   ]
  },
  {
   "cell_type": "markdown",
   "metadata": {},
   "source": [
    "### For GNPS library matches"
   ]
  },
  {
   "cell_type": "code",
   "execution_count": 29,
   "metadata": {},
   "outputs": [
    {
     "name": "stdout",
     "output_type": "stream",
     "text": [
      "Both SMILES and InChI were inputted\n",
      "Converting SMILES to mol object\n",
      "Succesfully converted to mol object: 260\n",
      "Exception to the parsing: 0\n",
      "Not available: 10970\n",
      "Converting INCHI to mol object\n",
      "Succesfully converted to mol object: 328\n",
      "Exception to the parsing: 0\n",
      "Not available: 10902\n",
      "Consolidating the lists\n",
      "Total mol object from the list 1 = 260\n",
      "Mol object consolidated from list 2 = 75\n",
      "Consolidated structures = 335\n",
      "Converting mol objects to SMILES iso\n",
      "Converting mol objects to SMILES\n",
      "Converting mol objects to InChI\n",
      "Converting mol objects to InChIKey\n",
      "End\n"
     ]
    }
   ],
   "source": [
    "consolidate_and_convert_structures(df,'GNPS_LIB_', smiles='GNPS_LIB_Smiles', \\\n",
    "                                   inchi='GNPS_LIB_INCHI')"
   ]
  },
  {
   "cell_type": "markdown",
   "metadata": {},
   "source": [
    "### For GNPS library match in analogue mode"
   ]
  },
  {
   "cell_type": "code",
   "execution_count": 30,
   "metadata": {},
   "outputs": [
    {
     "name": "stdout",
     "output_type": "stream",
     "text": [
      "Both SMILES and InChI were inputted\n",
      "Converting SMILES to mol object\n",
      "Succesfully converted to mol object: 643\n",
      "Exception to the parsing: 0\n",
      "Not available: 10587\n",
      "Converting INCHI to mol object\n",
      "Succesfully converted to mol object: 760\n",
      "Exception to the parsing: 0\n",
      "Not available: 10470\n",
      "Consolidating the lists\n",
      "Total mol object from the list 1 = 642\n",
      "Mol object consolidated from list 2 = 130\n",
      "Consolidated structures = 772\n",
      "Converting mol objects to SMILES iso\n",
      "Converting mol objects to SMILES\n",
      "Converting mol objects to InChI\n",
      "Converting mol objects to InChIKey\n",
      "End\n"
     ]
    }
   ],
   "source": [
    "consolidate_and_convert_structures(df,'GNPS_LIBA_', smiles='GNPS_LIBA_Smiles', \\\n",
    "                                   inchi='GNPS_LIBA_INCHI')"
   ]
  },
  {
   "cell_type": "code",
   "execution_count": 31,
   "metadata": {},
   "outputs": [
    {
     "data": {
      "text/html": [
       "<div>\n",
       "<style scoped>\n",
       "    .dataframe tbody tr th:only-of-type {\n",
       "        vertical-align: middle;\n",
       "    }\n",
       "\n",
       "    .dataframe tbody tr th {\n",
       "        vertical-align: top;\n",
       "    }\n",
       "\n",
       "    .dataframe thead th {\n",
       "        text-align: right;\n",
       "    }\n",
       "</style>\n",
       "<table border=\"1\" class=\"dataframe\">\n",
       "  <thead>\n",
       "    <tr style=\"text-align: right;\">\n",
       "      <th></th>\n",
       "      <th>#featureID</th>\n",
       "      <th>GNPS_Annotated Adduct Features ID</th>\n",
       "      <th>GNPS_Best Ion</th>\n",
       "      <th>GNPS_Correlated Features Group ID</th>\n",
       "      <th>GNPS_G1</th>\n",
       "      <th>GNPS_G2</th>\n",
       "      <th>GNPS_G3</th>\n",
       "      <th>GNPS_G4</th>\n",
       "      <th>GNPS_G5</th>\n",
       "      <th>GNPS_G6</th>\n",
       "      <th>...</th>\n",
       "      <th>CAN_superclass</th>\n",
       "      <th>CAN_all classifications</th>\n",
       "      <th>GNPS_LIB_Consol_SMILES_iso</th>\n",
       "      <th>GNPS_LIB_Consol_SMILES</th>\n",
       "      <th>GNPS_LIB_Consol_InChIKey</th>\n",
       "      <th>GNPS_LIB_Consol_InChI</th>\n",
       "      <th>GNPS_LIBA_Consol_SMILES_iso</th>\n",
       "      <th>GNPS_LIBA_Consol_SMILES</th>\n",
       "      <th>GNPS_LIBA_Consol_InChIKey</th>\n",
       "      <th>GNPS_LIBA_Consol_InChI</th>\n",
       "    </tr>\n",
       "  </thead>\n",
       "  <tbody>\n",
       "    <tr>\n",
       "      <th>0</th>\n",
       "      <td>1</td>\n",
       "      <td></td>\n",
       "      <td></td>\n",
       "      <td></td>\n",
       "      <td>0.0</td>\n",
       "      <td>0.0</td>\n",
       "      <td>0.0</td>\n",
       "      <td>0.0</td>\n",
       "      <td>0.0</td>\n",
       "      <td>0.0</td>\n",
       "      <td>...</td>\n",
       "      <td>NaN</td>\n",
       "      <td>NaN</td>\n",
       "      <td>NaN</td>\n",
       "      <td>NaN</td>\n",
       "      <td>NaN</td>\n",
       "      <td>NaN</td>\n",
       "      <td>NaN</td>\n",
       "      <td>NaN</td>\n",
       "      <td>NaN</td>\n",
       "      <td>NaN</td>\n",
       "    </tr>\n",
       "    <tr>\n",
       "      <th>1</th>\n",
       "      <td>2</td>\n",
       "      <td></td>\n",
       "      <td></td>\n",
       "      <td>19.0</td>\n",
       "      <td>0.0</td>\n",
       "      <td>0.0</td>\n",
       "      <td>0.0</td>\n",
       "      <td>0.0</td>\n",
       "      <td>0.0</td>\n",
       "      <td>0.0</td>\n",
       "      <td>...</td>\n",
       "      <td>NaN</td>\n",
       "      <td>NaN</td>\n",
       "      <td>NaN</td>\n",
       "      <td>NaN</td>\n",
       "      <td>NaN</td>\n",
       "      <td>NaN</td>\n",
       "      <td>NaN</td>\n",
       "      <td>NaN</td>\n",
       "      <td>NaN</td>\n",
       "      <td>NaN</td>\n",
       "    </tr>\n",
       "    <tr>\n",
       "      <th>2</th>\n",
       "      <td>3</td>\n",
       "      <td></td>\n",
       "      <td></td>\n",
       "      <td></td>\n",
       "      <td>0.0</td>\n",
       "      <td>0.0</td>\n",
       "      <td>0.0</td>\n",
       "      <td>0.0</td>\n",
       "      <td>0.0</td>\n",
       "      <td>0.0</td>\n",
       "      <td>...</td>\n",
       "      <td>NaN</td>\n",
       "      <td>NaN</td>\n",
       "      <td>NaN</td>\n",
       "      <td>NaN</td>\n",
       "      <td>NaN</td>\n",
       "      <td>NaN</td>\n",
       "      <td>C#CCCCCCCCCCCCC(O)CC(O)COC(C)=O</td>\n",
       "      <td>C#CCCCCCCCCCCCC(O)CC(O)COC(C)=O</td>\n",
       "      <td>JAKAZHIACKJNNB-UHFFFAOYSA-N</td>\n",
       "      <td>InChI=1S/C19H34O4/c1-3-4-5-6-7-8-9-10-11-12-13...</td>\n",
       "    </tr>\n",
       "  </tbody>\n",
       "</table>\n",
       "<p>3 rows × 199 columns</p>\n",
       "</div>"
      ],
      "text/plain": [
       "   #featureID GNPS_Annotated Adduct Features ID GNPS_Best Ion  \\\n",
       "0           1                                                   \n",
       "1           2                                                   \n",
       "2           3                                                   \n",
       "\n",
       "  GNPS_Correlated Features Group ID  GNPS_G1  GNPS_G2  GNPS_G3  GNPS_G4  \\\n",
       "0                                        0.0      0.0      0.0      0.0   \n",
       "1                              19.0      0.0      0.0      0.0      0.0   \n",
       "2                                        0.0      0.0      0.0      0.0   \n",
       "\n",
       "   GNPS_G5  GNPS_G6                        ...                          \\\n",
       "0      0.0      0.0                        ...                           \n",
       "1      0.0      0.0                        ...                           \n",
       "2      0.0      0.0                        ...                           \n",
       "\n",
       "  CAN_superclass CAN_all classifications GNPS_LIB_Consol_SMILES_iso  \\\n",
       "0            NaN                     NaN                        NaN   \n",
       "1            NaN                     NaN                        NaN   \n",
       "2            NaN                     NaN                        NaN   \n",
       "\n",
       "  GNPS_LIB_Consol_SMILES  GNPS_LIB_Consol_InChIKey GNPS_LIB_Consol_InChI  \\\n",
       "0                    NaN                       NaN                   NaN   \n",
       "1                    NaN                       NaN                   NaN   \n",
       "2                    NaN                       NaN                   NaN   \n",
       "\n",
       "       GNPS_LIBA_Consol_SMILES_iso          GNPS_LIBA_Consol_SMILES  \\\n",
       "0                              NaN                              NaN   \n",
       "1                              NaN                              NaN   \n",
       "2  C#CCCCCCCCCCCCC(O)CC(O)COC(C)=O  C#CCCCCCCCCCCCC(O)CC(O)COC(C)=O   \n",
       "\n",
       "     GNPS_LIBA_Consol_InChIKey  \\\n",
       "0                          NaN   \n",
       "1                          NaN   \n",
       "2  JAKAZHIACKJNNB-UHFFFAOYSA-N   \n",
       "\n",
       "                              GNPS_LIBA_Consol_InChI  \n",
       "0                                                NaN  \n",
       "1                                                NaN  \n",
       "2  InChI=1S/C19H34O4/c1-3-4-5-6-7-8-9-10-11-12-13...  \n",
       "\n",
       "[3 rows x 199 columns]"
      ]
     },
     "execution_count": 31,
     "metadata": {},
     "output_type": "execute_result"
    }
   ],
   "source": [
    "df.head(3)"
   ]
  },
  {
   "cell_type": "markdown",
   "metadata": {},
   "source": [
    "### Export table"
   ]
  },
  {
   "cell_type": "code",
   "execution_count": 32,
   "metadata": {},
   "outputs": [],
   "source": [
    "df.to_csv(path[:-4]+'_consolidated.tsv', sep='\\t', index=True)"
   ]
  },
  {
   "cell_type": "code",
   "execution_count": null,
   "metadata": {},
   "outputs": [],
   "source": []
  }
 ],
 "metadata": {
  "kernelspec": {
   "display_name": "python2_rdkit",
   "language": "python",
   "name": "python2_rdkit"
  },
  "language_info": {
   "codemirror_mode": {
    "name": "ipython",
    "version": 2
   },
   "file_extension": ".py",
   "mimetype": "text/x-python",
   "name": "python",
   "nbconvert_exporter": "python",
   "pygments_lexer": "ipython2",
   "version": "2.7.3"
  }
 },
 "nbformat": 4,
 "nbformat_minor": 2
}
