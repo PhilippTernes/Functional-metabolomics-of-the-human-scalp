{
 "cells": [
  {
   "cell_type": "markdown",
   "metadata": {},
   "source": [
    "## Comparing the stats of feature-based molecular networking"
   ]
  },
  {
   "cell_type": "code",
   "execution_count": 27,
   "metadata": {},
   "outputs": [],
   "source": [
    "import pandas as pd     \n",
    "import numpy as np\n",
    "import seaborn as sns\n",
    "import matplotlib.pyplot as plt"
   ]
  },
  {
   "cell_type": "code",
   "execution_count": 77,
   "metadata": {},
   "outputs": [
    {
     "data": {
      "text/html": [
       "<div>\n",
       "<style scoped>\n",
       "    .dataframe tbody tr th:only-of-type {\n",
       "        vertical-align: middle;\n",
       "    }\n",
       "\n",
       "    .dataframe tbody tr th {\n",
       "        vertical-align: top;\n",
       "    }\n",
       "\n",
       "    .dataframe thead th {\n",
       "        text-align: right;\n",
       "    }\n",
       "</style>\n",
       "<table border=\"1\" class=\"dataframe\">\n",
       "  <thead>\n",
       "    <tr style=\"text-align: right;\">\n",
       "      <th></th>\n",
       "      <th>Experiment</th>\n",
       "      <th>Number of nodes</th>\n",
       "      <th>Number of nodes in network</th>\n",
       "      <th>Number of annotated nodes</th>\n",
       "      <th>Number of unique annotations</th>\n",
       "    </tr>\n",
       "  </thead>\n",
       "  <tbody>\n",
       "    <tr>\n",
       "      <th>C18_positive</th>\n",
       "      <td>C18_positive</td>\n",
       "      <td>15089</td>\n",
       "      <td>4439</td>\n",
       "      <td>396</td>\n",
       "      <td>295</td>\n",
       "    </tr>\n",
       "    <tr>\n",
       "      <th>C18_negative</th>\n",
       "      <td>C18_negative</td>\n",
       "      <td>6137</td>\n",
       "      <td>3414</td>\n",
       "      <td>127</td>\n",
       "      <td>82</td>\n",
       "    </tr>\n",
       "    <tr>\n",
       "      <th>HILIC_positive</th>\n",
       "      <td>HILIC_positive</td>\n",
       "      <td>28762</td>\n",
       "      <td>4390</td>\n",
       "      <td>970</td>\n",
       "      <td>679</td>\n",
       "    </tr>\n",
       "    <tr>\n",
       "      <th>HILIC_negative</th>\n",
       "      <td>HILIC_negative</td>\n",
       "      <td>11230</td>\n",
       "      <td>2892</td>\n",
       "      <td>366</td>\n",
       "      <td>285</td>\n",
       "    </tr>\n",
       "  </tbody>\n",
       "</table>\n",
       "</div>"
      ],
      "text/plain": [
       "                    Experiment  Number of nodes  Number of nodes in network  \\\n",
       "C18_positive      C18_positive            15089                        4439   \n",
       "C18_negative      C18_negative             6137                        3414   \n",
       "HILIC_positive  HILIC_positive            28762                        4390   \n",
       "HILIC_negative  HILIC_negative            11230                        2892   \n",
       "\n",
       "                Number of annotated nodes  Number of unique annotations  \n",
       "C18_positive                          396                           295  \n",
       "C18_negative                          127                            82  \n",
       "HILIC_positive                        970                           679  \n",
       "HILIC_negative                        366                           285  "
      ]
     },
     "execution_count": 77,
     "metadata": {},
     "output_type": "execute_result"
    }
   ],
   "source": [
    "data = {'Experiment': ['C18_positive','C18_negative','HILIC_positive','HILIC_negative'],\n",
    "        'Number of nodes': [15089,6137,28762,11230],\n",
    "        'Number of nodes in network': [4439,3414,4390,2892], \n",
    "        'Number of annotated nodes': [396,127,970,366], \n",
    "        'Number of unique annotations': [295,82,679,285]}\n",
    "\n",
    "df = pd.DataFrame(data, columns = ['Experiment', 'Number of nodes','Number of nodes in network','Number of annotated nodes','Number of unique annotations'], index=['C18_positive','C18_negative','HILIC_positive','HILIC_negative'])\n",
    "df.head(5)"
   ]
  },
  {
   "cell_type": "code",
   "execution_count": 100,
   "metadata": {},
   "outputs": [
    {
     "data": {
      "image/png": "[encoded data removed]",
      "text/plain": [
       "<Figure size 432x288 with 1 Axes>"
      ]
     },
     "metadata": {
      "needs_background": "light"
     },
     "output_type": "display_data"
    },
    {
     "data": {
      "text/plain": [
       "<Figure size 432x288 with 0 Axes>"
      ]
     },
     "metadata": {},
     "output_type": "display_data"
    }
   ],
   "source": [
    "colors = [\"#F0E442\", \"#D55E00\", \"#CDC7FC\", \"#5246B3\"]\n",
    "sns.set_palette(sns.color_palette(colors))\n",
    "\n",
    "# who v/s fare barplot \n",
    "sns.barplot(data=df, x='Experiment', y='Number of nodes')\n",
    "\n",
    "# Show the plot\n",
    "plt.show()\n",
    "\n",
    "plt.savefig('output.png', dpi=200)"
   ]
  },
  {
   "cell_type": "code",
   "execution_count": 94,
   "metadata": {},
   "outputs": [
    {
     "data": {
      "image/png": "[encoded data removed]",
      "text/plain": [
       "<Figure size 432x288 with 1 Axes>"
      ]
     },
     "metadata": {
      "needs_background": "light"
     },
     "output_type": "display_data"
    }
   ],
   "source": [
    "# who v/s fare barplot \n",
    "sns.barplot(data=df, x='Experiment', y='Number of nodes in network')\n",
    "\n",
    "# Show the plot\n",
    "plt.show()"
   ]
  },
  {
   "cell_type": "code",
   "execution_count": 95,
   "metadata": {},
   "outputs": [
    {
     "data": {
      "image/png": "[encoded data removed]",
      "text/plain": [
       "<Figure size 432x288 with 1 Axes>"
      ]
     },
     "metadata": {
      "needs_background": "light"
     },
     "output_type": "display_data"
    }
   ],
   "source": [
    "# who v/s fare barplot \n",
    "sns.barplot(data=df, x='Experiment', y='Number of annotated nodes')\n",
    "\n",
    "# Show the plot\n",
    "plt.show()"
   ]
  },
  {
   "cell_type": "code",
   "execution_count": 96,
   "metadata": {},
   "outputs": [
    {
     "data": {
      "image/png": "[encoded data removed]",
      "text/plain": [
       "<Figure size 432x288 with 1 Axes>"
      ]
     },
     "metadata": {
      "needs_background": "light"
     },
     "output_type": "display_data"
    }
   ],
   "source": [
    "# who v/s fare barplot \n",
    "sns.barplot(data=df, x='Experiment', y='Number of unique annotations')\n",
    "\n",
    "# Show the plot\n",
    "plt.show()"
   ]
  },
  {
   "cell_type": "code",
   "execution_count": null,
   "metadata": {},
   "outputs": [],
   "source": []
  }
 ],
 "metadata": {
  "kernelspec": {
   "display_name": "Python [conda env:python3]",
   "language": "python",
   "name": "conda-env-python3-py"
  },
  "language_info": {
   "codemirror_mode": {
    "name": "ipython",
    "version": 3
   },
   "file_extension": ".py",
   "mimetype": "text/x-python",
   "name": "python",
   "nbconvert_exporter": "python",
   "pygments_lexer": "ipython3",
   "version": "3.7.1"
  }
 },
 "nbformat": 4,
 "nbformat_minor": 2
}
