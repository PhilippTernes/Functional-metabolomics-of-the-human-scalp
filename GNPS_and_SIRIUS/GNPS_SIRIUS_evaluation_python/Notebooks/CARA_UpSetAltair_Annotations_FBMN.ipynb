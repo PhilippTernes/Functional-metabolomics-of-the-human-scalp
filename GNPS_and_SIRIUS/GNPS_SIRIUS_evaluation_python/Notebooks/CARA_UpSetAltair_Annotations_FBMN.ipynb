{
 "cells": [
  {
   "cell_type": "markdown",
   "metadata": {},
   "source": [
    "# Looking at intersections of GNPS annotations in feature-based molecular networking\n",
    "\n",
    "Author: Louis-Felix Nothias for the CARA project on October 2020"
   ]
  },
  {
   "cell_type": "code",
   "execution_count": 3,
   "metadata": {},
   "outputs": [],
   "source": [
    "import pandas as pd     \n",
    "import numpy as np"
   ]
  },
  {
   "cell_type": "markdown",
   "metadata": {},
   "source": [
    "### Prepare input annotation files"
   ]
  },
  {
   "cell_type": "code",
   "execution_count": 4,
   "metadata": {},
   "outputs": [],
   "source": [
    "# Importing the GNPS annotations from Classical molecular networking\n",
    "results_C18_pos = pd.read_csv('Input/FBMN/C18_pos_ProteoSAFe-FEATURE-BASED-MOLECULAR-NETWORKING-63575189-download_cytoscape_data/DB_result/601e043681dc4b5da452d6e7a1eaff6d.tsv',  sep='\\t', header=0)\n",
    "results_C18_neg = pd.read_csv('Input/FBMN/C18_neg_ProteoSAFe-FEATURE-BASED-MOLECULAR-NETWORKING-2d9c9fec-download_cytoscape_data/DB_result/3c75bcc74591496785c21fac463dc97a.tsv',  sep='\\t', header=0)\n",
    "results_HILIC_pos = pd.read_csv('Input/FBMN/HILIC_pos_ProteoSAFe-FEATURE-BASED-MOLECULAR-NETWORKING-b699fd88-download_cytoscape_data/DB_result/b8fe540e7d164bd196883cbf19329390.tsv',  sep='\\t', header=0)\n",
    "results_HILIC_neg = pd.read_csv('Input/FBMN/HILIC_neg_ProteoSAFe-FEATURE-BASED-MOLECULAR-NETWORKING-5e42a119-download_cytoscape_data/DB_result/161d834d711a40e0a7d8cc7dd11888a6.tsv',  sep='\\t', header=0)"
   ]
  },
  {
   "cell_type": "markdown",
   "metadata": {},
   "source": [
    "### This function cleans up the annotations"
   ]
  },
  {
   "cell_type": "code",
   "execution_count": 5,
   "metadata": {},
   "outputs": [],
   "source": [
    "# This function cleans up the GNPS library results\n",
    "\n",
    "max_ppm_accuracy = 20\n",
    "def clean_up_annotations(df, ion_mode):\n",
    "    print('==============')\n",
    "    print('Initial:')\n",
    "    print(df.shape)\n",
    "    df2 = df\n",
    "    df2 = df2.dropna(subset=['IonMode'])\n",
    "    df2 = df2[df2.IonMode.str.contains(ion_mode)]\n",
    "    print('With correct ion mode:')\n",
    "    print(df2.shape[0])\n",
    "    df2 =  df2[(df2['MZErrorPPM'] <= max_ppm_accuracy)]\n",
    "    print('With acceptable mass tolerance:')\n",
    "    print(df2.shape)\n",
    "    df2 = df2.dropna(subset=['Smiles'])\n",
    "    print('With SMILES:')\n",
    "    print(df2.shape)\n",
    "    df2 = df2[~df2.Smiles.str.contains(\" \")]\n",
    "    print('With valid SMILES:')\n",
    "    print(df2.shape)\n",
    "    print('Annotations after SMILES cleaning')\n",
    "    #Remove the stereochemistry\n",
    "    df['Smiles'] = df2['Smiles'].str.replace('@', '')\n",
    "    print(df2.shape[0])\n",
    "    print('Unique annotations')\n",
    "    print(len(set(df['Smiles'])))\n",
    "    print('==============')\n",
    "    return df2"
   ]
  },
  {
   "cell_type": "markdown",
   "metadata": {},
   "source": [
    "### Run the processing"
   ]
  },
  {
   "cell_type": "code",
   "execution_count": 6,
   "metadata": {},
   "outputs": [
    {
     "name": "stdout",
     "output_type": "stream",
     "text": [
      "C18_pos\n",
      "==============\n",
      "Initial:\n",
      "(396, 43)\n",
      "With correct ion mode:\n",
      "381\n",
      "With acceptable mass tolerance:\n",
      "(358, 43)\n",
      "With SMILES:\n",
      "(266, 43)\n",
      "With valid SMILES:\n",
      "(260, 43)\n",
      "Annotations after SMILES cleaning\n",
      "260\n",
      "Unique annotations\n",
      "191\n",
      "==============\n",
      "C18_neg\n",
      "==============\n",
      "Initial:\n",
      "(127, 43)\n",
      "With correct ion mode:\n",
      "114\n",
      "With acceptable mass tolerance:\n",
      "(107, 43)\n",
      "With SMILES:\n",
      "(83, 43)\n",
      "With valid SMILES:\n",
      "(81, 43)\n",
      "Annotations after SMILES cleaning\n",
      "81\n",
      "Unique annotations\n",
      "52\n",
      "==============\n",
      "HILIC_pos\n",
      "==============\n",
      "Initial:\n",
      "(970, 43)\n",
      "With correct ion mode:\n",
      "930\n",
      "With acceptable mass tolerance:\n",
      "(871, 43)\n",
      "With SMILES:\n",
      "(657, 43)\n",
      "With valid SMILES:\n",
      "(644, 43)\n",
      "Annotations after SMILES cleaning\n",
      "644\n",
      "Unique annotations\n",
      "436\n",
      "==============\n",
      "HILIC_neg\n",
      "==============\n",
      "Initial:\n",
      "(366, 43)\n",
      "With correct ion mode:\n",
      "324\n",
      "With acceptable mass tolerance:\n",
      "(303, 43)\n",
      "With SMILES:\n",
      "(221, 43)\n",
      "With valid SMILES:\n",
      "(217, 43)\n",
      "Annotations after SMILES cleaning\n",
      "217\n",
      "Unique annotations\n",
      "174\n",
      "==============\n"
     ]
    }
   ],
   "source": [
    "print('C18_pos')\n",
    "results_C18_pos_clean = clean_up_annotations(results_C18_pos,'Positive')\n",
    "print('C18_neg')\n",
    "results_C18_neg_clean = clean_up_annotations(results_C18_neg,'Negative')\n",
    "print('HILIC_pos')\n",
    "results_HILIC_pos_clean = clean_up_annotations(results_HILIC_pos,'Positive')\n",
    "print('HILIC_neg')\n",
    "results_HILIC_neg_clean = clean_up_annotations(results_HILIC_neg,'Negative')"
   ]
  },
  {
   "cell_type": "markdown",
   "metadata": {},
   "source": [
    "### Prepare for UpSet plot"
   ]
  },
  {
   "cell_type": "code",
   "execution_count": 7,
   "metadata": {},
   "outputs": [
    {
     "name": "stdout",
     "output_type": "stream",
     "text": [
      "Total number of valid annotations: 1202\n",
      "Total number of valid unique annotations: 663\n"
     ]
    }
   ],
   "source": [
    "# Make list of SMILES\n",
    "smiles_C18_pos_clean = results_C18_pos_clean.Smiles.tolist()\n",
    "smiles_C18_neg_clean = results_C18_neg_clean.Smiles.tolist()\n",
    "smiles_HILIC_pos_clean = results_HILIC_pos_clean.Smiles.tolist()\n",
    "smiles_HILIC_neg_clean = results_HILIC_neg_clean.Smiles.tolist()\n",
    "\n",
    "#Make a set of all SMILES\n",
    "smiles_all = smiles_C18_pos_clean+smiles_C18_neg_clean+smiles_HILIC_pos_clean+smiles_HILIC_neg_clean\n",
    "print('Total number of valid annotations: '+str(len(smiles_all)))\n",
    "smiles_unique = set(smiles_all)\n",
    "print('Total number of valid unique annotations: '+ str(len(smiles_unique)))"
   ]
  },
  {
   "cell_type": "code",
   "execution_count": 15,
   "metadata": {},
   "outputs": [
    {
     "data": {
      "text/html": [
       "<div>\n",
       "<style scoped>\n",
       "    .dataframe tbody tr th:only-of-type {\n",
       "        vertical-align: middle;\n",
       "    }\n",
       "\n",
       "    .dataframe tbody tr th {\n",
       "        vertical-align: top;\n",
       "    }\n",
       "\n",
       "    .dataframe thead th {\n",
       "        text-align: right;\n",
       "    }\n",
       "</style>\n",
       "<table border=\"1\" class=\"dataframe\">\n",
       "  <thead>\n",
       "    <tr style=\"text-align: right;\">\n",
       "      <th></th>\n",
       "      <th>Smiles</th>\n",
       "      <th>C18_pos</th>\n",
       "      <th>C18_neg</th>\n",
       "      <th>HILIC_pos</th>\n",
       "      <th>HILIC_neg</th>\n",
       "    </tr>\n",
       "  </thead>\n",
       "  <tbody>\n",
       "    <tr>\n",
       "      <th>0</th>\n",
       "      <td>OC(=O)CCCC(O)=O</td>\n",
       "      <td>0</td>\n",
       "      <td>0</td>\n",
       "      <td>0</td>\n",
       "      <td>1</td>\n",
       "    </tr>\n",
       "    <tr>\n",
       "      <th>1</th>\n",
       "      <td>CCC=CCC=CCC=CCC=CCCCCC(=O)OC</td>\n",
       "      <td>1</td>\n",
       "      <td>0</td>\n",
       "      <td>0</td>\n",
       "      <td>0</td>\n",
       "    </tr>\n",
       "    <tr>\n",
       "      <th>2</th>\n",
       "      <td>CC(=O)NC1=CC=C(O)C(=C1)C(O)=O</td>\n",
       "      <td>0</td>\n",
       "      <td>0</td>\n",
       "      <td>1</td>\n",
       "      <td>0</td>\n",
       "    </tr>\n",
       "  </tbody>\n",
       "</table>\n",
       "</div>"
      ],
      "text/plain": [
       "                          Smiles  C18_pos  C18_neg  HILIC_pos  HILIC_neg\n",
       "0                OC(=O)CCCC(O)=O        0        0          0          1\n",
       "1   CCC=CCC=CCC=CCC=CCCCCC(=O)OC        1        0          0          0\n",
       "2  CC(=O)NC1=CC=C(O)C(=C1)C(O)=O        0        0          1          0"
      ]
     },
     "execution_count": 15,
     "metadata": {},
     "output_type": "execute_result"
    }
   ],
   "source": [
    "# Making a binary dataframe for SMILES absence/presence\n",
    "\n",
    "df = pd.DataFrame()\n",
    "df[\"Smiles\"] = list(smiles_unique)\n",
    "df['C18_pos'] = 'False'\n",
    "df['C18_pos'] = [+1 if x in smiles_C18_pos_clean else +0 for x in df['Smiles']]\n",
    "df['C18_neg'] = [+1 if x in smiles_C18_neg_clean else +0 for x in df['Smiles']]\n",
    "df['HILIC_pos'] = [+1 if x in smiles_HILIC_pos_clean else +0 for x in df['Smiles']]\n",
    "df['HILIC_neg'] = [+1 if x in smiles_HILIC_neg_clean else +0 for x in df['Smiles']]\n",
    "df.head(3)"
   ]
  },
  {
   "cell_type": "code",
   "execution_count": 9,
   "metadata": {},
   "outputs": [],
   "source": [
    "#See this repo and binder for UpSet https://github.com/hms-dbmi/upset-faculty\n",
    "import altair as alt\n",
    "from upsetaltair import UpSetAltair"
   ]
  },
  {
   "cell_type": "code",
   "execution_count": 18,
   "metadata": {},
   "outputs": [
    {
     "data": {
      "text/html": [
       "\n",
       "<div id=\"altair-viz-2e486667daf54a31bc568a32cc5c9785\"></div>\n",
       "<script type=\"text/javascript\">\n",
       "  (function(spec, embedOpt){\n",
       "    let outputDiv = document.currentScript.previousElementSibling;\n",
       "    if (outputDiv.id !== \"altair-viz-2e486667daf54a31bc568a32cc5c9785\") {\n",
       "      outputDiv = document.getElementById(\"altair-viz-2e486667daf54a31bc568a32cc5c9785\");\n",
       "    }\n",
       "    const paths = {\n",
       "      \"vega\": \"https://cdn.jsdelivr.net/npm//vega@5?noext\",\n",
       "      \"vega-lib\": \"https://cdn.jsdelivr.net/npm//vega-lib?noext\",\n",
       "      \"vega-lite\": \"https://cdn.jsdelivr.net/npm//vega-lite@4.8.1?noext\",\n",
       "      \"vega-embed\": \"https://cdn.jsdelivr.net/npm//vega-embed@6?noext\",\n",
       "    };\n",
       "\n",
       "    function loadScript(lib) {\n",
       "      return new Promise(function(resolve, reject) {\n",
       "        var s = document.createElement('script');\n",
       "        s.src = paths[lib];\n",
       "        s.async = true;\n",
       "        s.onload = () => resolve(paths[lib]);\n",
       "        s.onerror = () => reject(`Error loading script: ${paths[lib]}`);\n",
       "        document.getElementsByTagName(\"head\")[0].appendChild(s);\n",
       "      });\n",
       "    }\n",
       "\n",
       "    function showError(err) {\n",
       "      outputDiv.innerHTML = `<div class=\"error\" style=\"color:red;\">${err}</div>`;\n",
       "      throw err;\n",
       "    }\n",
       "\n",
       "    function displayChart(vegaEmbed) {\n",
       "      vegaEmbed(outputDiv, spec, embedOpt)\n",
       "        .catch(err => showError(`Javascript Error: ${err.message}<br>This usually means there's a typo in your chart specification. See the javascript console for the full traceback.`));\n",
       "    }\n",
       "\n",
       "    if(typeof define === \"function\" && define.amd) {\n",
       "      requirejs.config({paths});\n",
       "      require([\"vega-embed\"], displayChart, err => showError(`Error loading script: ${err.message}`));\n",
       "    } else if (typeof vegaEmbed === \"function\") {\n",
       "      displayChart(vegaEmbed);\n",
       "    } else {\n",
       "      loadScript(\"vega\")\n",
       "        .then(() => loadScript(\"vega-lite\"))\n",
       "        .then(() => loadScript(\"vega-embed\"))\n",
       "        .catch(showError)\n",
       "        .then(() => displayChart(vegaEmbed));\n",
       "    }\n",
       "  })({\"config\": {\"view\": {\"continuousWidth\": 400, \"continuousHeight\": 300, \"stroke\": null}, \"axis\": {\"labelFontSize\": 14, \"labelFontWeight\": 300, \"titleFontSize\": 16, \"titleFontWeight\": 400, \"titlePadding\": 10}, \"concat\": {\"spacing\": 0}, \"legend\": {\"labelFontSize\": 18, \"labelFontWeight\": 300, \"orient\": \"top\", \"padding\": 20, \"symbolSize\": 325.0, \"symbolType\": \"circle\", \"titleFontSize\": 16, \"titleFontWeight\": 400}, \"title\": {\"anchor\": \"start\", \"fontSize\": 18, \"fontWeight\": 400, \"subtitlePadding\": 10}}, \"vconcat\": [{\"layer\": [{\"mark\": {\"type\": \"bar\", \"color\": \"#3A3A3A\", \"size\": 30}, \"encoding\": {\"color\": {\"condition\": {\"value\": \"#3A3A3A\", \"selection\": {\"not\": \"selector011\"}}, \"value\": \"#EA4667\"}, \"tooltip\": [{\"type\": \"quantitative\", \"aggregate\": \"max\", \"field\": \"count\", \"title\": \"Cardinality\"}, {\"type\": \"quantitative\", \"field\": \"degree\", \"title\": \"Degree\"}], \"x\": {\"type\": \"nominal\", \"axis\": {\"domain\": true, \"grid\": false, \"labels\": false, \"ticks\": false}, \"field\": \"intersection_id\", \"sort\": {\"field\": \"count\", \"order\": \"ascending\"}, \"title\": null}, \"y\": {\"type\": \"quantitative\", \"aggregate\": \"max\", \"axis\": {\"grid\": false, \"orient\": \"right\", \"tickCount\": 3}, \"field\": \"count\", \"title\": \"Intersection Size\"}}, \"height\": 325.0, \"selection\": {\"selector011\": {\"type\": \"single\", \"fields\": [\"intersection_id\"], \"on\": \"mouseover\"}, \"selector010\": {\"type\": \"multi\", \"fields\": [\"set\"], \"bind\": \"legend\"}}, \"transform\": [{\"filter\": {\"selection\": \"selector010\"}}, {\"pivot\": \"set\", \"value\": \"is_intersect\", \"groupby\": [\"intersection_id\", \"count\"], \"op\": \"max\"}, {\"aggregate\": [{\"op\": \"sum\", \"field\": \"count\", \"as\": \"count\"}], \"groupby\": [\"C18_pos\", \"C18_neg\", \"HILIC_pos\", \"HILIC_neg\"]}, {\"calculate\": \"(isDefined(datum['C18_pos']) ? datum['C18_pos'] : 0)+(isDefined(datum['C18_neg']) ? datum['C18_neg'] : 0)+(isDefined(datum['HILIC_pos']) ? datum['HILIC_pos'] : 0)+(isDefined(datum['HILIC_neg']) ? datum['HILIC_neg'] : 0)\", \"as\": \"degree\"}, {\"filter\": \"(datum['degree'] !== 0)\"}, {\"window\": [{\"op\": \"row_number\", \"field\": \"\", \"as\": \"intersection_id\"}], \"frame\": [null, null]}, {\"fold\": [\"C18_pos\", \"C18_neg\", \"HILIC_pos\", \"HILIC_neg\"], \"as\": [\"set\", \"is_intersect\"]}, {\"lookup\": \"set\", \"from\": {\"data\": {\"name\": \"data-81bd8564ec9a780c88980c1eb9b445b9\"}, \"key\": \"set\", \"fields\": [\"set_abbre\"]}}, {\"lookup\": \"set\", \"from\": {\"data\": {\"name\": \"data-219898c82a44a26c7955b1fca408adfc\"}, \"key\": \"set\", \"fields\": [\"set_order\"]}}, {\"filter\": {\"selection\": \"selector010\"}}, {\"window\": [{\"op\": \"distinct\", \"field\": \"set\", \"as\": \"set_order\"}], \"frame\": [null, 0], \"sort\": [{\"field\": \"set_order\"}]}], \"width\": 650}, {\"mark\": {\"type\": \"text\", \"color\": \"#3A3A3A\", \"dy\": -10, \"size\": 14}, \"encoding\": {\"color\": {\"condition\": {\"value\": \"#3A3A3A\", \"selection\": {\"not\": \"selector011\"}}, \"value\": \"#EA4667\"}, \"text\": {\"type\": \"quantitative\", \"field\": \"count\", \"format\": \".0f\"}, \"tooltip\": [{\"type\": \"quantitative\", \"aggregate\": \"max\", \"field\": \"count\", \"title\": \"Cardinality\"}, {\"type\": \"quantitative\", \"field\": \"degree\", \"title\": \"Degree\"}], \"x\": {\"type\": \"nominal\", \"axis\": {\"domain\": true, \"grid\": false, \"labels\": false, \"ticks\": false}, \"field\": \"intersection_id\", \"sort\": {\"field\": \"count\", \"order\": \"ascending\"}, \"title\": null}, \"y\": {\"type\": \"quantitative\", \"aggregate\": \"max\", \"axis\": {\"grid\": false, \"orient\": \"right\", \"tickCount\": 3}, \"field\": \"count\", \"title\": \"Intersection Size\"}}, \"height\": 325.0, \"transform\": [{\"filter\": {\"selection\": \"selector010\"}}, {\"pivot\": \"set\", \"value\": \"is_intersect\", \"groupby\": [\"intersection_id\", \"count\"], \"op\": \"max\"}, {\"aggregate\": [{\"op\": \"sum\", \"field\": \"count\", \"as\": \"count\"}], \"groupby\": [\"C18_pos\", \"C18_neg\", \"HILIC_pos\", \"HILIC_neg\"]}, {\"calculate\": \"(isDefined(datum['C18_pos']) ? datum['C18_pos'] : 0)+(isDefined(datum['C18_neg']) ? datum['C18_neg'] : 0)+(isDefined(datum['HILIC_pos']) ? datum['HILIC_pos'] : 0)+(isDefined(datum['HILIC_neg']) ? datum['HILIC_neg'] : 0)\", \"as\": \"degree\"}, {\"filter\": \"(datum['degree'] !== 0)\"}, {\"window\": [{\"op\": \"row_number\", \"field\": \"\", \"as\": \"intersection_id\"}], \"frame\": [null, null]}, {\"fold\": [\"C18_pos\", \"C18_neg\", \"HILIC_pos\", \"HILIC_neg\"], \"as\": [\"set\", \"is_intersect\"]}, {\"lookup\": \"set\", \"from\": {\"data\": {\"name\": \"data-81bd8564ec9a780c88980c1eb9b445b9\"}, \"key\": \"set\", \"fields\": [\"set_abbre\"]}}, {\"lookup\": \"set\", \"from\": {\"data\": {\"name\": \"data-219898c82a44a26c7955b1fca408adfc\"}, \"key\": \"set\", \"fields\": [\"set_order\"]}}, {\"filter\": {\"selection\": \"selector010\"}}, {\"window\": [{\"op\": \"distinct\", \"field\": \"set\", \"as\": \"set_order\"}], \"frame\": [null, 0], \"sort\": [{\"field\": \"set_order\"}]}], \"width\": 650}]}, {\"hconcat\": [{\"layer\": [{\"mark\": {\"type\": \"circle\", \"opacity\": 1, \"size\": 600}, \"encoding\": {\"color\": {\"condition\": {\"value\": \"#3A3A3A\", \"selection\": {\"not\": \"selector011\"}}, \"value\": \"#EA4667\"}, \"tooltip\": [{\"type\": \"quantitative\", \"aggregate\": \"max\", \"field\": \"count\", \"title\": \"Cardinality\"}, {\"type\": \"quantitative\", \"field\": \"degree\", \"title\": \"Degree\"}], \"x\": {\"type\": \"nominal\", \"axis\": {\"domain\": false, \"grid\": false, \"labels\": false, \"ticks\": false}, \"field\": \"intersection_id\", \"sort\": {\"field\": \"count\", \"order\": \"ascending\"}, \"title\": null}, \"y\": {\"type\": \"nominal\", \"axis\": {\"domain\": false, \"grid\": false, \"labels\": false, \"ticks\": false}, \"field\": \"set_order\", \"title\": null}}, \"height\": 175.0, \"selection\": {\"selector011\": {\"type\": \"single\", \"fields\": [\"intersection_id\"], \"on\": \"mouseover\"}, \"selector010\": {\"type\": \"multi\", \"fields\": [\"set\"], \"bind\": \"legend\"}}, \"transform\": [{\"filter\": {\"selection\": \"selector010\"}}, {\"pivot\": \"set\", \"value\": \"is_intersect\", \"groupby\": [\"intersection_id\", \"count\"], \"op\": \"max\"}, {\"aggregate\": [{\"op\": \"sum\", \"field\": \"count\", \"as\": \"count\"}], \"groupby\": [\"C18_pos\", \"C18_neg\", \"HILIC_pos\", \"HILIC_neg\"]}, {\"calculate\": \"(isDefined(datum['C18_pos']) ? datum['C18_pos'] : 0)+(isDefined(datum['C18_neg']) ? datum['C18_neg'] : 0)+(isDefined(datum['HILIC_pos']) ? datum['HILIC_pos'] : 0)+(isDefined(datum['HILIC_neg']) ? datum['HILIC_neg'] : 0)\", \"as\": \"degree\"}, {\"filter\": \"(datum['degree'] !== 0)\"}, {\"window\": [{\"op\": \"row_number\", \"field\": \"\", \"as\": \"intersection_id\"}], \"frame\": [null, null]}, {\"fold\": [\"C18_pos\", \"C18_neg\", \"HILIC_pos\", \"HILIC_neg\"], \"as\": [\"set\", \"is_intersect\"]}, {\"lookup\": \"set\", \"from\": {\"data\": {\"name\": \"data-81bd8564ec9a780c88980c1eb9b445b9\"}, \"key\": \"set\", \"fields\": [\"set_abbre\"]}}, {\"lookup\": \"set\", \"from\": {\"data\": {\"name\": \"data-219898c82a44a26c7955b1fca408adfc\"}, \"key\": \"set\", \"fields\": [\"set_order\"]}}, {\"filter\": {\"selection\": \"selector010\"}}, {\"window\": [{\"op\": \"distinct\", \"field\": \"set\", \"as\": \"set_order\"}], \"frame\": [null, 0], \"sort\": [{\"field\": \"set_order\"}]}, {\"filter\": \"(datum['is_intersect'] === 1)\"}], \"width\": 650}, {\"mark\": \"rect\", \"encoding\": {\"color\": {\"value\": \"#F7F7F7\"}, \"tooltip\": [{\"type\": \"quantitative\", \"aggregate\": \"max\", \"field\": \"count\", \"title\": \"Cardinality\"}, {\"type\": \"quantitative\", \"field\": \"degree\", \"title\": \"Degree\"}], \"x\": {\"type\": \"nominal\", \"axis\": {\"domain\": false, \"grid\": false, \"labels\": false, \"ticks\": false}, \"field\": \"intersection_id\", \"sort\": {\"field\": \"count\", \"order\": \"ascending\"}, \"title\": null}, \"y\": {\"type\": \"nominal\", \"axis\": {\"domain\": false, \"grid\": false, \"labels\": false, \"ticks\": false}, \"field\": \"set_order\", \"title\": null}}, \"height\": 175.0, \"transform\": [{\"filter\": {\"selection\": \"selector010\"}}, {\"pivot\": \"set\", \"value\": \"is_intersect\", \"groupby\": [\"intersection_id\", \"count\"], \"op\": \"max\"}, {\"aggregate\": [{\"op\": \"sum\", \"field\": \"count\", \"as\": \"count\"}], \"groupby\": [\"C18_pos\", \"C18_neg\", \"HILIC_pos\", \"HILIC_neg\"]}, {\"calculate\": \"(isDefined(datum['C18_pos']) ? datum['C18_pos'] : 0)+(isDefined(datum['C18_neg']) ? datum['C18_neg'] : 0)+(isDefined(datum['HILIC_pos']) ? datum['HILIC_pos'] : 0)+(isDefined(datum['HILIC_neg']) ? datum['HILIC_neg'] : 0)\", \"as\": \"degree\"}, {\"filter\": \"(datum['degree'] !== 0)\"}, {\"window\": [{\"op\": \"row_number\", \"field\": \"\", \"as\": \"intersection_id\"}], \"frame\": [null, null]}, {\"fold\": [\"C18_pos\", \"C18_neg\", \"HILIC_pos\", \"HILIC_neg\"], \"as\": [\"set\", \"is_intersect\"]}, {\"lookup\": \"set\", \"from\": {\"data\": {\"name\": \"data-81bd8564ec9a780c88980c1eb9b445b9\"}, \"key\": \"set\", \"fields\": [\"set_abbre\"]}}, {\"lookup\": \"set\", \"from\": {\"data\": {\"name\": \"data-219898c82a44a26c7955b1fca408adfc\"}, \"key\": \"set\", \"fields\": [\"set_order\"]}}, {\"filter\": {\"selection\": \"selector010\"}}, {\"window\": [{\"op\": \"distinct\", \"field\": \"set\", \"as\": \"set_order\"}], \"frame\": [null, 0], \"sort\": [{\"field\": \"set_order\"}]}, {\"filter\": \"((datum['set_order'] % 2) === 1)\"}], \"width\": 650}, {\"mark\": {\"type\": \"circle\", \"opacity\": 1, \"size\": 600}, \"encoding\": {\"color\": {\"value\": \"#E6E6E6\"}, \"tooltip\": [{\"type\": \"quantitative\", \"aggregate\": \"max\", \"field\": \"count\", \"title\": \"Cardinality\"}, {\"type\": \"quantitative\", \"field\": \"degree\", \"title\": \"Degree\"}], \"x\": {\"type\": \"nominal\", \"axis\": {\"domain\": false, \"grid\": false, \"labels\": false, \"ticks\": false}, \"field\": \"intersection_id\", \"sort\": {\"field\": \"count\", \"order\": \"ascending\"}, \"title\": null}, \"y\": {\"type\": \"nominal\", \"axis\": {\"domain\": false, \"grid\": false, \"labels\": false, \"ticks\": false}, \"field\": \"set_order\", \"title\": null}}, \"height\": 175.0, \"transform\": [{\"filter\": {\"selection\": \"selector010\"}}, {\"pivot\": \"set\", \"value\": \"is_intersect\", \"groupby\": [\"intersection_id\", \"count\"], \"op\": \"max\"}, {\"aggregate\": [{\"op\": \"sum\", \"field\": \"count\", \"as\": \"count\"}], \"groupby\": [\"C18_pos\", \"C18_neg\", \"HILIC_pos\", \"HILIC_neg\"]}, {\"calculate\": \"(isDefined(datum['C18_pos']) ? datum['C18_pos'] : 0)+(isDefined(datum['C18_neg']) ? datum['C18_neg'] : 0)+(isDefined(datum['HILIC_pos']) ? datum['HILIC_pos'] : 0)+(isDefined(datum['HILIC_neg']) ? datum['HILIC_neg'] : 0)\", \"as\": \"degree\"}, {\"filter\": \"(datum['degree'] !== 0)\"}, {\"window\": [{\"op\": \"row_number\", \"field\": \"\", \"as\": \"intersection_id\"}], \"frame\": [null, null]}, {\"fold\": [\"C18_pos\", \"C18_neg\", \"HILIC_pos\", \"HILIC_neg\"], \"as\": [\"set\", \"is_intersect\"]}, {\"lookup\": \"set\", \"from\": {\"data\": {\"name\": \"data-81bd8564ec9a780c88980c1eb9b445b9\"}, \"key\": \"set\", \"fields\": [\"set_abbre\"]}}, {\"lookup\": \"set\", \"from\": {\"data\": {\"name\": \"data-219898c82a44a26c7955b1fca408adfc\"}, \"key\": \"set\", \"fields\": [\"set_order\"]}}, {\"filter\": {\"selection\": \"selector010\"}}, {\"window\": [{\"op\": \"distinct\", \"field\": \"set\", \"as\": \"set_order\"}], \"frame\": [null, 0], \"sort\": [{\"field\": \"set_order\"}]}], \"width\": 650}, {\"mark\": {\"type\": \"bar\", \"color\": \"#3A3A3A\", \"size\": 5}, \"encoding\": {\"color\": {\"condition\": {\"value\": \"#3A3A3A\", \"selection\": {\"not\": \"selector011\"}}, \"value\": \"#EA4667\"}, \"tooltip\": [{\"type\": \"quantitative\", \"aggregate\": \"max\", \"field\": \"count\", \"title\": \"Cardinality\"}, {\"type\": \"quantitative\", \"field\": \"degree\", \"title\": \"Degree\"}], \"x\": {\"type\": \"nominal\", \"axis\": {\"domain\": true, \"grid\": false, \"labels\": false, \"ticks\": false}, \"field\": \"intersection_id\", \"sort\": {\"field\": \"count\", \"order\": \"ascending\"}, \"title\": null}, \"y\": {\"type\": \"nominal\", \"aggregate\": \"min\", \"field\": \"set_order\"}, \"y2\": {\"aggregate\": \"max\", \"field\": \"set_order\"}}, \"height\": 325.0, \"transform\": [{\"filter\": {\"selection\": \"selector010\"}}, {\"pivot\": \"set\", \"value\": \"is_intersect\", \"groupby\": [\"intersection_id\", \"count\"], \"op\": \"max\"}, {\"aggregate\": [{\"op\": \"sum\", \"field\": \"count\", \"as\": \"count\"}], \"groupby\": [\"C18_pos\", \"C18_neg\", \"HILIC_pos\", \"HILIC_neg\"]}, {\"calculate\": \"(isDefined(datum['C18_pos']) ? datum['C18_pos'] : 0)+(isDefined(datum['C18_neg']) ? datum['C18_neg'] : 0)+(isDefined(datum['HILIC_pos']) ? datum['HILIC_pos'] : 0)+(isDefined(datum['HILIC_neg']) ? datum['HILIC_neg'] : 0)\", \"as\": \"degree\"}, {\"filter\": \"(datum['degree'] !== 0)\"}, {\"window\": [{\"op\": \"row_number\", \"field\": \"\", \"as\": \"intersection_id\"}], \"frame\": [null, null]}, {\"fold\": [\"C18_pos\", \"C18_neg\", \"HILIC_pos\", \"HILIC_neg\"], \"as\": [\"set\", \"is_intersect\"]}, {\"lookup\": \"set\", \"from\": {\"data\": {\"name\": \"data-81bd8564ec9a780c88980c1eb9b445b9\"}, \"key\": \"set\", \"fields\": [\"set_abbre\"]}}, {\"lookup\": \"set\", \"from\": {\"data\": {\"name\": \"data-219898c82a44a26c7955b1fca408adfc\"}, \"key\": \"set\", \"fields\": [\"set_order\"]}}, {\"filter\": {\"selection\": \"selector010\"}}, {\"window\": [{\"op\": \"distinct\", \"field\": \"set\", \"as\": \"set_order\"}], \"frame\": [null, 0], \"sort\": [{\"field\": \"set_order\"}]}, {\"filter\": \"(datum['is_intersect'] === 1)\"}], \"width\": 650}, {\"mark\": {\"type\": \"circle\", \"opacity\": 1, \"size\": 600}, \"encoding\": {\"color\": {\"condition\": {\"value\": \"#3A3A3A\", \"selection\": {\"not\": \"selector011\"}}, \"value\": \"#EA4667\"}, \"tooltip\": [{\"type\": \"quantitative\", \"aggregate\": \"max\", \"field\": \"count\", \"title\": \"Cardinality\"}, {\"type\": \"quantitative\", \"field\": \"degree\", \"title\": \"Degree\"}], \"x\": {\"type\": \"nominal\", \"axis\": {\"domain\": false, \"grid\": false, \"labels\": false, \"ticks\": false}, \"field\": \"intersection_id\", \"sort\": {\"field\": \"count\", \"order\": \"ascending\"}, \"title\": null}, \"y\": {\"type\": \"nominal\", \"axis\": {\"domain\": false, \"grid\": false, \"labels\": false, \"ticks\": false}, \"field\": \"set_order\", \"title\": null}}, \"height\": 175.0, \"transform\": [{\"filter\": {\"selection\": \"selector010\"}}, {\"pivot\": \"set\", \"value\": \"is_intersect\", \"groupby\": [\"intersection_id\", \"count\"], \"op\": \"max\"}, {\"aggregate\": [{\"op\": \"sum\", \"field\": \"count\", \"as\": \"count\"}], \"groupby\": [\"C18_pos\", \"C18_neg\", \"HILIC_pos\", \"HILIC_neg\"]}, {\"calculate\": \"(isDefined(datum['C18_pos']) ? datum['C18_pos'] : 0)+(isDefined(datum['C18_neg']) ? datum['C18_neg'] : 0)+(isDefined(datum['HILIC_pos']) ? datum['HILIC_pos'] : 0)+(isDefined(datum['HILIC_neg']) ? datum['HILIC_neg'] : 0)\", \"as\": \"degree\"}, {\"filter\": \"(datum['degree'] !== 0)\"}, {\"window\": [{\"op\": \"row_number\", \"field\": \"\", \"as\": \"intersection_id\"}], \"frame\": [null, null]}, {\"fold\": [\"C18_pos\", \"C18_neg\", \"HILIC_pos\", \"HILIC_neg\"], \"as\": [\"set\", \"is_intersect\"]}, {\"lookup\": \"set\", \"from\": {\"data\": {\"name\": \"data-81bd8564ec9a780c88980c1eb9b445b9\"}, \"key\": \"set\", \"fields\": [\"set_abbre\"]}}, {\"lookup\": \"set\", \"from\": {\"data\": {\"name\": \"data-219898c82a44a26c7955b1fca408adfc\"}, \"key\": \"set\", \"fields\": [\"set_order\"]}}, {\"filter\": {\"selection\": \"selector010\"}}, {\"window\": [{\"op\": \"distinct\", \"field\": \"set\", \"as\": \"set_order\"}], \"frame\": [null, 0], \"sort\": [{\"field\": \"set_order\"}]}, {\"filter\": \"(datum['is_intersect'] === 1)\"}], \"width\": 650}]}, {\"mark\": {\"type\": \"text\", \"align\": \"center\"}, \"encoding\": {\"color\": {\"value\": \"black\"}, \"opacity\": {\"value\": 1}, \"text\": {\"type\": \"nominal\", \"field\": \"set_abbre\"}, \"y\": {\"type\": \"nominal\", \"axis\": {\"domain\": false, \"grid\": false, \"labels\": false, \"ticks\": false}, \"field\": \"set_order\", \"title\": null}}, \"selection\": {\"selector010\": {\"type\": \"multi\", \"fields\": [\"set\"], \"bind\": \"legend\"}}, \"transform\": [{\"filter\": {\"selection\": \"selector010\"}}, {\"pivot\": \"set\", \"value\": \"is_intersect\", \"groupby\": [\"intersection_id\", \"count\"], \"op\": \"max\"}, {\"aggregate\": [{\"op\": \"sum\", \"field\": \"count\", \"as\": \"count\"}], \"groupby\": [\"C18_pos\", \"C18_neg\", \"HILIC_pos\", \"HILIC_neg\"]}, {\"calculate\": \"(isDefined(datum['C18_pos']) ? datum['C18_pos'] : 0)+(isDefined(datum['C18_neg']) ? datum['C18_neg'] : 0)+(isDefined(datum['HILIC_pos']) ? datum['HILIC_pos'] : 0)+(isDefined(datum['HILIC_neg']) ? datum['HILIC_neg'] : 0)\", \"as\": \"degree\"}, {\"filter\": \"(datum['degree'] !== 0)\"}, {\"window\": [{\"op\": \"row_number\", \"field\": \"\", \"as\": \"intersection_id\"}], \"frame\": [null, null]}, {\"fold\": [\"C18_pos\", \"C18_neg\", \"HILIC_pos\", \"HILIC_neg\"], \"as\": [\"set\", \"is_intersect\"]}, {\"lookup\": \"set\", \"from\": {\"data\": {\"name\": \"data-81bd8564ec9a780c88980c1eb9b445b9\"}, \"key\": \"set\", \"fields\": [\"set_abbre\"]}}, {\"lookup\": \"set\", \"from\": {\"data\": {\"name\": \"data-219898c82a44a26c7955b1fca408adfc\"}, \"key\": \"set\", \"fields\": [\"set_order\"]}}, {\"filter\": {\"selection\": \"selector010\"}}, {\"window\": [{\"op\": \"distinct\", \"field\": \"set\", \"as\": \"set_order\"}], \"frame\": [null, 0], \"sort\": [{\"field\": \"set_order\"}]}]}, {\"mark\": {\"type\": \"bar\", \"size\": 25}, \"encoding\": {\"color\": {\"type\": \"nominal\", \"field\": \"set\", \"scale\": {\"domain\": [\"C18_pos\", \"C18_neg\", \"HILIC_pos\", \"HILIC_neg\"], \"range\": [\"#F0E442\", \"#D55E00\", \"#cdc7fc\", \"#5246b3\"]}, \"title\": null}, \"opacity\": {\"value\": 1}, \"x\": {\"type\": \"quantitative\", \"aggregate\": \"sum\", \"axis\": {\"grid\": false, \"tickCount\": 3}, \"field\": \"count\", \"title\": \"Set Size\"}, \"y\": {\"type\": \"nominal\", \"axis\": {\"domain\": false, \"grid\": false, \"labels\": false, \"ticks\": false}, \"field\": \"set_order\", \"title\": null}}, \"selection\": {\"selector010\": {\"type\": \"multi\", \"fields\": [\"set\"], \"bind\": \"legend\"}}, \"transform\": [{\"filter\": {\"selection\": \"selector010\"}}, {\"pivot\": \"set\", \"value\": \"is_intersect\", \"groupby\": [\"intersection_id\", \"count\"], \"op\": \"max\"}, {\"aggregate\": [{\"op\": \"sum\", \"field\": \"count\", \"as\": \"count\"}], \"groupby\": [\"C18_pos\", \"C18_neg\", \"HILIC_pos\", \"HILIC_neg\"]}, {\"calculate\": \"(isDefined(datum['C18_pos']) ? datum['C18_pos'] : 0)+(isDefined(datum['C18_neg']) ? datum['C18_neg'] : 0)+(isDefined(datum['HILIC_pos']) ? datum['HILIC_pos'] : 0)+(isDefined(datum['HILIC_neg']) ? datum['HILIC_neg'] : 0)\", \"as\": \"degree\"}, {\"filter\": \"(datum['degree'] !== 0)\"}, {\"window\": [{\"op\": \"row_number\", \"field\": \"\", \"as\": \"intersection_id\"}], \"frame\": [null, null]}, {\"fold\": [\"C18_pos\", \"C18_neg\", \"HILIC_pos\", \"HILIC_neg\"], \"as\": [\"set\", \"is_intersect\"]}, {\"lookup\": \"set\", \"from\": {\"data\": {\"name\": \"data-81bd8564ec9a780c88980c1eb9b445b9\"}, \"key\": \"set\", \"fields\": [\"set_abbre\"]}}, {\"lookup\": \"set\", \"from\": {\"data\": {\"name\": \"data-219898c82a44a26c7955b1fca408adfc\"}, \"key\": \"set\", \"fields\": [\"set_order\"]}}, {\"filter\": {\"selection\": \"selector010\"}}, {\"window\": [{\"op\": \"distinct\", \"field\": \"set\", \"as\": \"set_order\"}], \"frame\": [null, 0], \"sort\": [{\"field\": \"set_order\"}]}, {\"filter\": \"(datum['is_intersect'] === 1)\"}], \"width\": 250}], \"resolve\": {\"scale\": {\"y\": \"shared\"}}, \"spacing\": 5}], \"data\": {\"name\": \"data-29a00ce5de0c49d1819f67df91b39386\"}, \"spacing\": 20, \"title\": {\"text\": \"Feature-based molecular networking: annotation distribution\", \"subtitle\": [\"The annotations are derived from MS/MS spectral matching against public spectral library, and NIST17.\", \"Minimum cosine score = 0.6 | Minimum matched fragment = 3 | Maximum ppm error = 20.\"], \"fontSize\": 20, \"fontWeight\": 500, \"subtitleColor\": \"#3A3A3A\", \"subtitleFontSize\": 14}, \"$schema\": \"https://vega.github.io/schema/vega-lite/v4.8.1.json\", \"datasets\": {\"data-29a00ce5de0c49d1819f67df91b39386\": [{\"intersection_id\": 5, \"count\": 1, \"degree\": 2, \"set\": \"C18_pos\", \"is_intersect\": 0}, {\"intersection_id\": 8, \"count\": 1, \"degree\": 2, \"set\": \"C18_pos\", \"is_intersect\": 1}, {\"intersection_id\": 11, \"count\": 1, \"degree\": 3, \"set\": \"C18_pos\", \"is_intersect\": 1}, {\"intersection_id\": 12, \"count\": 1, \"degree\": 3, \"set\": \"C18_pos\", \"is_intersect\": 1}, {\"intersection_id\": 10, \"count\": 3, \"degree\": 3, \"set\": \"C18_pos\", \"is_intersect\": 1}, {\"intersection_id\": 13, \"count\": 3, \"degree\": 4, \"set\": \"C18_pos\", \"is_intersect\": 1}, {\"intersection_id\": 6, \"count\": 8, \"degree\": 3, \"set\": \"C18_pos\", \"is_intersect\": 0}, {\"intersection_id\": 4, \"count\": 16, \"degree\": 2, \"set\": \"C18_pos\", \"is_intersect\": 0}, {\"intersection_id\": 3, \"count\": 21, \"degree\": 1, \"set\": \"C18_pos\", \"is_intersect\": 0}, {\"intersection_id\": 2, \"count\": 57, \"degree\": 2, \"set\": \"C18_pos\", \"is_intersect\": 0}, {\"intersection_id\": 9, \"count\": 76, \"degree\": 2, \"set\": \"C18_pos\", \"is_intersect\": 1}, {\"intersection_id\": 0, \"count\": 84, \"degree\": 1, \"set\": \"C18_pos\", \"is_intersect\": 0}, {\"intersection_id\": 7, \"count\": 105, \"degree\": 1, \"set\": \"C18_pos\", \"is_intersect\": 1}, {\"intersection_id\": 1, \"count\": 286, \"degree\": 1, \"set\": \"C18_pos\", \"is_intersect\": 0}, {\"intersection_id\": 5, \"count\": 1, \"degree\": 2, \"set\": \"C18_neg\", \"is_intersect\": 1}, {\"intersection_id\": 8, \"count\": 1, \"degree\": 2, \"set\": \"C18_neg\", \"is_intersect\": 0}, {\"intersection_id\": 11, \"count\": 1, \"degree\": 3, \"set\": \"C18_neg\", \"is_intersect\": 1}, {\"intersection_id\": 12, \"count\": 1, \"degree\": 3, \"set\": \"C18_neg\", \"is_intersect\": 1}, {\"intersection_id\": 10, \"count\": 3, \"degree\": 3, \"set\": \"C18_neg\", \"is_intersect\": 0}, {\"intersection_id\": 13, \"count\": 3, \"degree\": 4, \"set\": \"C18_neg\", \"is_intersect\": 1}, {\"intersection_id\": 6, \"count\": 8, \"degree\": 3, \"set\": \"C18_neg\", \"is_intersect\": 1}, {\"intersection_id\": 4, \"count\": 16, \"degree\": 2, \"set\": \"C18_neg\", \"is_intersect\": 1}, {\"intersection_id\": 3, \"count\": 21, \"degree\": 1, \"set\": \"C18_neg\", \"is_intersect\": 1}, {\"intersection_id\": 2, \"count\": 57, \"degree\": 2, \"set\": \"C18_neg\", \"is_intersect\": 0}, {\"intersection_id\": 9, \"count\": 76, \"degree\": 2, \"set\": \"C18_neg\", \"is_intersect\": 0}, {\"intersection_id\": 0, \"count\": 84, \"degree\": 1, \"set\": \"C18_neg\", \"is_intersect\": 0}, {\"intersection_id\": 7, \"count\": 105, \"degree\": 1, \"set\": \"C18_neg\", \"is_intersect\": 0}, {\"intersection_id\": 1, \"count\": 286, \"degree\": 1, \"set\": \"C18_neg\", \"is_intersect\": 0}, {\"intersection_id\": 5, \"count\": 1, \"degree\": 2, \"set\": \"HILIC_pos\", \"is_intersect\": 1}, {\"intersection_id\": 8, \"count\": 1, \"degree\": 2, \"set\": \"HILIC_pos\", \"is_intersect\": 0}, {\"intersection_id\": 11, \"count\": 1, \"degree\": 3, \"set\": \"HILIC_pos\", \"is_intersect\": 0}, {\"intersection_id\": 12, \"count\": 1, \"degree\": 3, \"set\": \"HILIC_pos\", \"is_intersect\": 1}, {\"intersection_id\": 10, \"count\": 3, \"degree\": 3, \"set\": \"HILIC_pos\", \"is_intersect\": 1}, {\"intersection_id\": 13, \"count\": 3, \"degree\": 4, \"set\": \"HILIC_pos\", \"is_intersect\": 1}, {\"intersection_id\": 6, \"count\": 8, \"degree\": 3, \"set\": \"HILIC_pos\", \"is_intersect\": 1}, {\"intersection_id\": 4, \"count\": 16, \"degree\": 2, \"set\": \"HILIC_pos\", \"is_intersect\": 0}, {\"intersection_id\": 3, \"count\": 21, \"degree\": 1, \"set\": \"HILIC_pos\", \"is_intersect\": 0}, {\"intersection_id\": 2, \"count\": 57, \"degree\": 2, \"set\": \"HILIC_pos\", \"is_intersect\": 1}, {\"intersection_id\": 9, \"count\": 76, \"degree\": 2, \"set\": \"HILIC_pos\", \"is_intersect\": 1}, {\"intersection_id\": 0, \"count\": 84, \"degree\": 1, \"set\": \"HILIC_pos\", \"is_intersect\": 0}, {\"intersection_id\": 7, \"count\": 105, \"degree\": 1, \"set\": \"HILIC_pos\", \"is_intersect\": 0}, {\"intersection_id\": 1, \"count\": 286, \"degree\": 1, \"set\": \"HILIC_pos\", \"is_intersect\": 1}, {\"intersection_id\": 5, \"count\": 1, \"degree\": 2, \"set\": \"HILIC_neg\", \"is_intersect\": 0}, {\"intersection_id\": 8, \"count\": 1, \"degree\": 2, \"set\": \"HILIC_neg\", \"is_intersect\": 1}, {\"intersection_id\": 11, \"count\": 1, \"degree\": 3, \"set\": \"HILIC_neg\", \"is_intersect\": 1}, {\"intersection_id\": 12, \"count\": 1, \"degree\": 3, \"set\": \"HILIC_neg\", \"is_intersect\": 0}, {\"intersection_id\": 10, \"count\": 3, \"degree\": 3, \"set\": \"HILIC_neg\", \"is_intersect\": 1}, {\"intersection_id\": 13, \"count\": 3, \"degree\": 4, \"set\": \"HILIC_neg\", \"is_intersect\": 1}, {\"intersection_id\": 6, \"count\": 8, \"degree\": 3, \"set\": \"HILIC_neg\", \"is_intersect\": 1}, {\"intersection_id\": 4, \"count\": 16, \"degree\": 2, \"set\": \"HILIC_neg\", \"is_intersect\": 1}, {\"intersection_id\": 3, \"count\": 21, \"degree\": 1, \"set\": \"HILIC_neg\", \"is_intersect\": 0}, {\"intersection_id\": 2, \"count\": 57, \"degree\": 2, \"set\": \"HILIC_neg\", \"is_intersect\": 1}, {\"intersection_id\": 9, \"count\": 76, \"degree\": 2, \"set\": \"HILIC_neg\", \"is_intersect\": 0}, {\"intersection_id\": 0, \"count\": 84, \"degree\": 1, \"set\": \"HILIC_neg\", \"is_intersect\": 1}, {\"intersection_id\": 7, \"count\": 105, \"degree\": 1, \"set\": \"HILIC_neg\", \"is_intersect\": 0}, {\"intersection_id\": 1, \"count\": 286, \"degree\": 1, \"set\": \"HILIC_neg\", \"is_intersect\": 0}], \"data-81bd8564ec9a780c88980c1eb9b445b9\": [{\"set\": \"C18_pos\", \"set_abbre\": \"C18 ESI+\"}, {\"set\": \"C18_neg\", \"set_abbre\": \"C18 ESI-\"}, {\"set\": \"HILIC_pos\", \"set_abbre\": \"HILIC ESI+\"}, {\"set\": \"HILIC_neg\", \"set_abbre\": \"HILIC ESI-\"}], \"data-219898c82a44a26c7955b1fca408adfc\": [{\"set\": \"C18_pos\", \"set_order\": 1}, {\"set\": \"C18_neg\", \"set_order\": 2}, {\"set\": \"HILIC_pos\", \"set_order\": 3}, {\"set\": \"HILIC_neg\", \"set_order\": 4}]}}, {\"mode\": \"vega-lite\"});\n",
       "</script>"
      ],
      "text/plain": [
       "alt.VConcatChart(...)"
      ]
     },
     "execution_count": 18,
     "metadata": {},
     "output_type": "execute_result"
    }
   ],
   "source": [
    "UpSetAltair(\n",
    "    data=df.copy(),\n",
    "    title=\"Feature-based molecular networking: annotation distribution\",\n",
    "    subtitle=[\n",
    "        \"The annotations are derived from MS/MS spectral matching against public spectral library, and NIST17.\",\n",
    "        \"Minimum cosine score = 0.6 | Minimum matched fragment = 3 | Maximum ppm error = 20.\"],\n",
    "    sets=[\"C18_pos\", \"C18_neg\", \"HILIC_pos\", \"HILIC_neg\"],\n",
    "    abbre=[\"C18 ESI+\", \"C18 ESI-\", \"HILIC ESI+\", \"HILIC ESI-\"],\n",
    "    sort_by=\"frequency\",\n",
    "    sort_order=\"ascending\",\n",
    "    \n",
    "    # Custom options:\n",
    "    width=900,\n",
    "    height=500,\n",
    "    height_ratio=0.65,\n",
    "    color_range=[\"#F0E442\", \"#D55E00\", \"#cdc7fc\", \"#5246b3\"],\n",
    "    #highlight_color=\"#d61e1e\",\n",
    "    horizontal_bar_chart_width=250,\n",
    "    glyph_size=600,\n",
    "    set_label_bg_size=650,\n",
    "    line_connection_size=5,\n",
    "    horizontal_bar_size=25,\n",
    "    vertical_bar_label_size=14,\n",
    "    vertical_bar_padding=14\n",
    ")"
   ]
  },
  {
   "cell_type": "code",
   "execution_count": null,
   "metadata": {},
   "outputs": [],
   "source": []
  }
 ],
 "metadata": {
  "kernelspec": {
   "display_name": "Python [conda env:python3]",
   "language": "python",
   "name": "conda-env-python3-py"
  },
  "language_info": {
   "codemirror_mode": {
    "name": "ipython",
    "version": 3
   },
   "file_extension": ".py",
   "mimetype": "text/x-python",
   "name": "python",
   "nbconvert_exporter": "python",
   "pygments_lexer": "ipython3",
   "version": "3.7.1"
  }
 },
 "nbformat": 4,
 "nbformat_minor": 2
}
