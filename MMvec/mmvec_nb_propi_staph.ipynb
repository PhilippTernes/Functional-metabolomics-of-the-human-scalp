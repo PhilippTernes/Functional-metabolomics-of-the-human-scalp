{
 "cells": [
  {
   "cell_type": "code",
   "execution_count": 1,
   "id": "30d6457c-5985-4f7f-a553-74cc6f1d4910",
   "metadata": {
    "tags": []
   },
   "outputs": [
    {
     "name": "stdout",
     "output_type": "stream",
     "text": [
      "TensorFlow version:\n",
      "1.15.0\n",
      "Check if the GPU is recognized by TensorFlow:\n",
      "False\n"
     ]
    }
   ],
   "source": [
    "import pandas as pd\n",
    "import numpy as np\n",
    "import matplotlib.pyplot as plt\n",
    "%matplotlib inline\n",
    "from sklearn.feature_selection import VarianceThreshold\n",
    "import tensorflow as tf\n",
    "print(\"TensorFlow version:\")\n",
    "print(tf.__version__)\n",
    "print(\"Check if the GPU is recognized by TensorFlow:\")\n",
    "print(tf.test.is_gpu_available())"
   ]
  },
  {
   "cell_type": "markdown",
   "id": "c2d4c8a3-e1e3-4c16-8ebf-f4c0f6a6ff1e",
   "metadata": {},
   "source": [
    "# Metabolomics and microbiome datasets\n",
    "\n",
    "## Metabolomics dataset\n",
    "\n",
    "The dataset is on ratio scale. Any missing values will be replaced with one."
   ]
  },
  {
   "cell_type": "code",
   "execution_count": 2,
   "id": "8f250464-d30e-4fb9-8aa8-6a75dcf7814f",
   "metadata": {
    "tags": []
   },
   "outputs": [
    {
     "data": {
      "text/plain": [
       "(1225, 56)"
      ]
     },
     "execution_count": 2,
     "metadata": {},
     "output_type": "execute_result"
    }
   ],
   "source": [
    "filename_metabolites = 'metabolite_data_untargeted_families_baseline_samples.txt'\n",
    "data_metabolites = pd.read_csv(filename_metabolites, sep=\"\\t\", index_col= 'FAMILY_ID').replace(np.nan, 1)\n",
    "data_metabolites.index.names = ['#OTU ID']   # Use the standard MMvec index name\n",
    "data_metabolites.shape"
   ]
  },
  {
   "cell_type": "code",
   "execution_count": 3,
   "id": "0658b6e7-b4e2-468f-85e0-6ed6636eca5b",
   "metadata": {
    "tags": []
   },
   "outputs": [
    {
     "data": {
      "text/html": [
       "<div>\n",
       "<style scoped>\n",
       "    .dataframe tbody tr th:only-of-type {\n",
       "        vertical-align: middle;\n",
       "    }\n",
       "\n",
       "    .dataframe tbody tr th {\n",
       "        vertical-align: top;\n",
       "    }\n",
       "\n",
       "    .dataframe thead th {\n",
       "        text-align: right;\n",
       "    }\n",
       "</style>\n",
       "<table border=\"1\" class=\"dataframe\">\n",
       "  <thead>\n",
       "    <tr style=\"text-align: right;\">\n",
       "      <th></th>\n",
       "      <th>EMR_04_1_JG</th>\n",
       "      <th>EMR_04_10_MD</th>\n",
       "      <th>EMR_04_11_AT</th>\n",
       "      <th>EMR_04_13_KB</th>\n",
       "      <th>EMR_04_15_DB</th>\n",
       "      <th>EMR_04_17_BS</th>\n",
       "      <th>EMR_04_19_BK</th>\n",
       "      <th>EMR_04_20_JP</th>\n",
       "      <th>EMR_04_21_DM</th>\n",
       "      <th>EMR_04_22_RS</th>\n",
       "      <th>...</th>\n",
       "      <th>EMR_04_N-16_PP</th>\n",
       "      <th>EMR_04_N-18_JG</th>\n",
       "      <th>EMR_04_N-19_RC</th>\n",
       "      <th>EMR_04_N-21_AG</th>\n",
       "      <th>EMR_04_N-22_RD</th>\n",
       "      <th>EMR_04_N-29_BP</th>\n",
       "      <th>EMR_04_N-31_JG</th>\n",
       "      <th>EMR_04_N-4_EV</th>\n",
       "      <th>EMR_04_N-5_CA</th>\n",
       "      <th>EMR_04_N-8_PC</th>\n",
       "    </tr>\n",
       "    <tr>\n",
       "      <th>#OTU ID</th>\n",
       "      <th></th>\n",
       "      <th></th>\n",
       "      <th></th>\n",
       "      <th></th>\n",
       "      <th></th>\n",
       "      <th></th>\n",
       "      <th></th>\n",
       "      <th></th>\n",
       "      <th></th>\n",
       "      <th></th>\n",
       "      <th></th>\n",
       "      <th></th>\n",
       "      <th></th>\n",
       "      <th></th>\n",
       "      <th></th>\n",
       "      <th></th>\n",
       "      <th></th>\n",
       "      <th></th>\n",
       "      <th></th>\n",
       "      <th></th>\n",
       "      <th></th>\n",
       "    </tr>\n",
       "  </thead>\n",
       "  <tbody>\n",
       "    <tr>\n",
       "      <th>X940001</th>\n",
       "      <td>1.917066</td>\n",
       "      <td>1.097793</td>\n",
       "      <td>1.102515</td>\n",
       "      <td>1.492751</td>\n",
       "      <td>0.949165</td>\n",
       "      <td>0.658015</td>\n",
       "      <td>1.039717</td>\n",
       "      <td>1.248009</td>\n",
       "      <td>1.311771</td>\n",
       "      <td>1.077183</td>\n",
       "      <td>...</td>\n",
       "      <td>1.145810</td>\n",
       "      <td>1.086979</td>\n",
       "      <td>1.554093</td>\n",
       "      <td>1.347086</td>\n",
       "      <td>1.506364</td>\n",
       "      <td>1.155302</td>\n",
       "      <td>1.206615</td>\n",
       "      <td>0.743653</td>\n",
       "      <td>1.174041</td>\n",
       "      <td>1.349065</td>\n",
       "    </tr>\n",
       "    <tr>\n",
       "      <th>X940002</th>\n",
       "      <td>0.937738</td>\n",
       "      <td>1.105094</td>\n",
       "      <td>0.721868</td>\n",
       "      <td>1.301356</td>\n",
       "      <td>0.808781</td>\n",
       "      <td>1.422914</td>\n",
       "      <td>1.331156</td>\n",
       "      <td>1.388068</td>\n",
       "      <td>1.215894</td>\n",
       "      <td>1.232049</td>\n",
       "      <td>...</td>\n",
       "      <td>0.995496</td>\n",
       "      <td>1.040750</td>\n",
       "      <td>0.993713</td>\n",
       "      <td>1.084026</td>\n",
       "      <td>0.535335</td>\n",
       "      <td>0.620074</td>\n",
       "      <td>1.172014</td>\n",
       "      <td>1.050518</td>\n",
       "      <td>1.183928</td>\n",
       "      <td>1.124060</td>\n",
       "    </tr>\n",
       "    <tr>\n",
       "      <th>X940005</th>\n",
       "      <td>0.632835</td>\n",
       "      <td>1.223279</td>\n",
       "      <td>0.547940</td>\n",
       "      <td>0.616814</td>\n",
       "      <td>0.525264</td>\n",
       "      <td>0.959493</td>\n",
       "      <td>2.002433</td>\n",
       "      <td>1.084656</td>\n",
       "      <td>0.933708</td>\n",
       "      <td>1.104386</td>\n",
       "      <td>...</td>\n",
       "      <td>0.572647</td>\n",
       "      <td>1.197824</td>\n",
       "      <td>1.390256</td>\n",
       "      <td>1.071936</td>\n",
       "      <td>1.238504</td>\n",
       "      <td>1.008577</td>\n",
       "      <td>0.941165</td>\n",
       "      <td>0.873972</td>\n",
       "      <td>1.113174</td>\n",
       "      <td>1.055592</td>\n",
       "    </tr>\n",
       "    <tr>\n",
       "      <th>X940007</th>\n",
       "      <td>1.563082</td>\n",
       "      <td>0.679953</td>\n",
       "      <td>1.444796</td>\n",
       "      <td>1.953196</td>\n",
       "      <td>1.700636</td>\n",
       "      <td>1.860522</td>\n",
       "      <td>1.980057</td>\n",
       "      <td>2.443831</td>\n",
       "      <td>1.066134</td>\n",
       "      <td>2.120190</td>\n",
       "      <td>...</td>\n",
       "      <td>1.775266</td>\n",
       "      <td>0.911157</td>\n",
       "      <td>1.236485</td>\n",
       "      <td>0.800783</td>\n",
       "      <td>1.061433</td>\n",
       "      <td>1.500792</td>\n",
       "      <td>1.064874</td>\n",
       "      <td>2.132671</td>\n",
       "      <td>1.168662</td>\n",
       "      <td>1.533733</td>\n",
       "    </tr>\n",
       "    <tr>\n",
       "      <th>X940010</th>\n",
       "      <td>0.688643</td>\n",
       "      <td>0.492065</td>\n",
       "      <td>6.018816</td>\n",
       "      <td>1.734043</td>\n",
       "      <td>3.759450</td>\n",
       "      <td>1.384322</td>\n",
       "      <td>0.378216</td>\n",
       "      <td>1.061845</td>\n",
       "      <td>4.077086</td>\n",
       "      <td>0.702574</td>\n",
       "      <td>...</td>\n",
       "      <td>0.370022</td>\n",
       "      <td>0.827221</td>\n",
       "      <td>0.711317</td>\n",
       "      <td>0.966257</td>\n",
       "      <td>1.264027</td>\n",
       "      <td>2.173998</td>\n",
       "      <td>0.815656</td>\n",
       "      <td>0.941501</td>\n",
       "      <td>0.300463</td>\n",
       "      <td>0.992282</td>\n",
       "    </tr>\n",
       "  </tbody>\n",
       "</table>\n",
       "<p>5 rows × 56 columns</p>\n",
       "</div>"
      ],
      "text/plain": [
       "         EMR_04_1_JG  EMR_04_10_MD  EMR_04_11_AT  EMR_04_13_KB  EMR_04_15_DB  \\\n",
       "#OTU ID                                                                        \n",
       "X940001     1.917066      1.097793      1.102515      1.492751      0.949165   \n",
       "X940002     0.937738      1.105094      0.721868      1.301356      0.808781   \n",
       "X940005     0.632835      1.223279      0.547940      0.616814      0.525264   \n",
       "X940007     1.563082      0.679953      1.444796      1.953196      1.700636   \n",
       "X940010     0.688643      0.492065      6.018816      1.734043      3.759450   \n",
       "\n",
       "         EMR_04_17_BS  EMR_04_19_BK  EMR_04_20_JP  EMR_04_21_DM  EMR_04_22_RS  \\\n",
       "#OTU ID                                                                         \n",
       "X940001      0.658015      1.039717      1.248009      1.311771      1.077183   \n",
       "X940002      1.422914      1.331156      1.388068      1.215894      1.232049   \n",
       "X940005      0.959493      2.002433      1.084656      0.933708      1.104386   \n",
       "X940007      1.860522      1.980057      2.443831      1.066134      2.120190   \n",
       "X940010      1.384322      0.378216      1.061845      4.077086      0.702574   \n",
       "\n",
       "         ...  EMR_04_N-16_PP  EMR_04_N-18_JG  EMR_04_N-19_RC  EMR_04_N-21_AG  \\\n",
       "#OTU ID  ...                                                                   \n",
       "X940001  ...        1.145810        1.086979        1.554093        1.347086   \n",
       "X940002  ...        0.995496        1.040750        0.993713        1.084026   \n",
       "X940005  ...        0.572647        1.197824        1.390256        1.071936   \n",
       "X940007  ...        1.775266        0.911157        1.236485        0.800783   \n",
       "X940010  ...        0.370022        0.827221        0.711317        0.966257   \n",
       "\n",
       "         EMR_04_N-22_RD  EMR_04_N-29_BP  EMR_04_N-31_JG  EMR_04_N-4_EV  \\\n",
       "#OTU ID                                                                  \n",
       "X940001        1.506364        1.155302        1.206615       0.743653   \n",
       "X940002        0.535335        0.620074        1.172014       1.050518   \n",
       "X940005        1.238504        1.008577        0.941165       0.873972   \n",
       "X940007        1.061433        1.500792        1.064874       2.132671   \n",
       "X940010        1.264027        2.173998        0.815656       0.941501   \n",
       "\n",
       "         EMR_04_N-5_CA  EMR_04_N-8_PC  \n",
       "#OTU ID                                \n",
       "X940001       1.174041       1.349065  \n",
       "X940002       1.183928       1.124060  \n",
       "X940005       1.113174       1.055592  \n",
       "X940007       1.168662       1.533733  \n",
       "X940010       0.300463       0.992282  \n",
       "\n",
       "[5 rows x 56 columns]"
      ]
     },
     "execution_count": 3,
     "metadata": {},
     "output_type": "execute_result"
    }
   ],
   "source": [
    "data_metabolites.head()"
   ]
  },
  {
   "cell_type": "markdown",
   "id": "43a3b34f-4e7a-4c1d-a25e-a630c8f21588",
   "metadata": {},
   "source": [
    "Scale the dataset so that the sum of all features in each sample is 1. This is needed because MMvec expects compositional data for both microbes and metabolites:"
   ]
  },
  {
   "cell_type": "code",
   "execution_count": 4,
   "id": "8e5c993b-910b-4767-8315-36324a410fd5",
   "metadata": {
    "tags": []
   },
   "outputs": [
    {
     "data": {
      "text/plain": [
       "EMR_04_1_JG     1.0\n",
       "EMR_04_10_MD    1.0\n",
       "EMR_04_11_AT    1.0\n",
       "EMR_04_13_KB    1.0\n",
       "EMR_04_15_DB    1.0\n",
       "dtype: float64"
      ]
     },
     "execution_count": 4,
     "metadata": {},
     "output_type": "execute_result"
    }
   ],
   "source": [
    "data_metabolites = data_metabolites / data_metabolites.sum(axis=0)\n",
    "data_metabolites.sum(axis=0).head()"
   ]
  },
  {
   "cell_type": "markdown",
   "id": "25c6cdbd-45b9-4fb7-bc54-ad86402a0d97",
   "metadata": {
    "tags": []
   },
   "source": [
    "## Microbiome dataset"
   ]
  },
  {
   "cell_type": "code",
   "execution_count": 5,
   "id": "f1c7216b-2a59-459f-96af-0abab0b7ab09",
   "metadata": {
    "tags": []
   },
   "outputs": [
    {
     "data": {
      "text/plain": [
       "(5, 55)"
      ]
     },
     "execution_count": 5,
     "metadata": {},
     "output_type": "execute_result"
    }
   ],
   "source": [
    "filename_microbiome = 'data_propi_staph_wide.tsv'\n",
    "data_microbiome = pd.read_csv(filename_microbiome, sep=\"\\t\", index_col='Major_Taxa')\n",
    "data_microbiome.index.names = ['#OTU ID']   # Use the standard MMvec index name\n",
    "data_microbiome.shape"
   ]
  },
  {
   "cell_type": "code",
   "execution_count": 6,
   "id": "474fe609-17e0-4254-82bc-c5fcad72fc89",
   "metadata": {
    "tags": []
   },
   "outputs": [
    {
     "data": {
      "text/html": [
       "<div>\n",
       "<style scoped>\n",
       "    .dataframe tbody tr th:only-of-type {\n",
       "        vertical-align: middle;\n",
       "    }\n",
       "\n",
       "    .dataframe tbody tr th {\n",
       "        vertical-align: top;\n",
       "    }\n",
       "\n",
       "    .dataframe thead th {\n",
       "        text-align: right;\n",
       "    }\n",
       "</style>\n",
       "<table border=\"1\" class=\"dataframe\">\n",
       "  <thead>\n",
       "    <tr style=\"text-align: right;\">\n",
       "      <th></th>\n",
       "      <th>EMR_04_10_MD</th>\n",
       "      <th>EMR_04_11_AT</th>\n",
       "      <th>EMR_04_13_KB</th>\n",
       "      <th>EMR_04_15_DB</th>\n",
       "      <th>EMR_04_17_BS</th>\n",
       "      <th>EMR_04_19_BK</th>\n",
       "      <th>EMR_04_1_JG</th>\n",
       "      <th>EMR_04_20_JP</th>\n",
       "      <th>EMR_04_21_DM</th>\n",
       "      <th>EMR_04_22_RS</th>\n",
       "      <th>...</th>\n",
       "      <th>EMR_04_N-13_LB</th>\n",
       "      <th>EMR_04_N-16_PP</th>\n",
       "      <th>EMR_04_N-18_JG</th>\n",
       "      <th>EMR_04_N-19_RC</th>\n",
       "      <th>EMR_04_N-21_AG</th>\n",
       "      <th>EMR_04_N-29_BP</th>\n",
       "      <th>EMR_04_N-31_JG</th>\n",
       "      <th>EMR_04_N-4_EV</th>\n",
       "      <th>EMR_04_N-5_CA</th>\n",
       "      <th>EMR_04_N-8_PC</th>\n",
       "    </tr>\n",
       "    <tr>\n",
       "      <th>#OTU ID</th>\n",
       "      <th></th>\n",
       "      <th></th>\n",
       "      <th></th>\n",
       "      <th></th>\n",
       "      <th></th>\n",
       "      <th></th>\n",
       "      <th></th>\n",
       "      <th></th>\n",
       "      <th></th>\n",
       "      <th></th>\n",
       "      <th></th>\n",
       "      <th></th>\n",
       "      <th></th>\n",
       "      <th></th>\n",
       "      <th></th>\n",
       "      <th></th>\n",
       "      <th></th>\n",
       "      <th></th>\n",
       "      <th></th>\n",
       "      <th></th>\n",
       "      <th></th>\n",
       "    </tr>\n",
       "  </thead>\n",
       "  <tbody>\n",
       "    <tr>\n",
       "      <th>Propionibacteriaceae</th>\n",
       "      <td>0.332027</td>\n",
       "      <td>0.666855</td>\n",
       "      <td>0.561543</td>\n",
       "      <td>0.891106</td>\n",
       "      <td>0.953581</td>\n",
       "      <td>0.934267</td>\n",
       "      <td>0.744176</td>\n",
       "      <td>0.857723</td>\n",
       "      <td>0.952992</td>\n",
       "      <td>0.565385</td>\n",
       "      <td>...</td>\n",
       "      <td>0.203518</td>\n",
       "      <td>0.206553</td>\n",
       "      <td>0.874048</td>\n",
       "      <td>0.472923</td>\n",
       "      <td>0.765998</td>\n",
       "      <td>0.898414</td>\n",
       "      <td>0.520952</td>\n",
       "      <td>0.946872</td>\n",
       "      <td>0.874343</td>\n",
       "      <td>0.996344</td>\n",
       "    </tr>\n",
       "    <tr>\n",
       "      <th>Staphylococcus caprae or capitis</th>\n",
       "      <td>0.528800</td>\n",
       "      <td>0.332987</td>\n",
       "      <td>0.219763</td>\n",
       "      <td>0.103000</td>\n",
       "      <td>0.045315</td>\n",
       "      <td>0.000717</td>\n",
       "      <td>0.254573</td>\n",
       "      <td>0.070421</td>\n",
       "      <td>0.046224</td>\n",
       "      <td>0.000611</td>\n",
       "      <td>...</td>\n",
       "      <td>0.465449</td>\n",
       "      <td>0.786049</td>\n",
       "      <td>0.119447</td>\n",
       "      <td>0.436955</td>\n",
       "      <td>0.233420</td>\n",
       "      <td>0.099802</td>\n",
       "      <td>0.380629</td>\n",
       "      <td>0.052941</td>\n",
       "      <td>0.060375</td>\n",
       "      <td>0.000445</td>\n",
       "    </tr>\n",
       "    <tr>\n",
       "      <th>Staphylococcus epidermidis</th>\n",
       "      <td>0.138998</td>\n",
       "      <td>0.000158</td>\n",
       "      <td>0.217896</td>\n",
       "      <td>0.005556</td>\n",
       "      <td>0.001055</td>\n",
       "      <td>0.061597</td>\n",
       "      <td>0.001103</td>\n",
       "      <td>0.070647</td>\n",
       "      <td>0.000734</td>\n",
       "      <td>0.005383</td>\n",
       "      <td>...</td>\n",
       "      <td>0.330953</td>\n",
       "      <td>0.005747</td>\n",
       "      <td>0.001297</td>\n",
       "      <td>0.087936</td>\n",
       "      <td>0.000482</td>\n",
       "      <td>0.001783</td>\n",
       "      <td>0.098053</td>\n",
       "      <td>0.000175</td>\n",
       "      <td>0.043466</td>\n",
       "      <td>0.000000</td>\n",
       "    </tr>\n",
       "    <tr>\n",
       "      <th>Staphylococcus hominis</th>\n",
       "      <td>0.000174</td>\n",
       "      <td>0.000000</td>\n",
       "      <td>0.000789</td>\n",
       "      <td>0.000102</td>\n",
       "      <td>0.000049</td>\n",
       "      <td>0.002969</td>\n",
       "      <td>0.000148</td>\n",
       "      <td>0.001209</td>\n",
       "      <td>0.000022</td>\n",
       "      <td>0.427676</td>\n",
       "      <td>...</td>\n",
       "      <td>0.000000</td>\n",
       "      <td>0.001491</td>\n",
       "      <td>0.003537</td>\n",
       "      <td>0.002185</td>\n",
       "      <td>0.000045</td>\n",
       "      <td>0.000000</td>\n",
       "      <td>0.000134</td>\n",
       "      <td>0.000003</td>\n",
       "      <td>0.002729</td>\n",
       "      <td>0.003211</td>\n",
       "    </tr>\n",
       "    <tr>\n",
       "      <th>Other Staphylococci</th>\n",
       "      <td>0.000000</td>\n",
       "      <td>0.000000</td>\n",
       "      <td>0.000009</td>\n",
       "      <td>0.000235</td>\n",
       "      <td>0.000000</td>\n",
       "      <td>0.000449</td>\n",
       "      <td>0.000000</td>\n",
       "      <td>0.000000</td>\n",
       "      <td>0.000028</td>\n",
       "      <td>0.000946</td>\n",
       "      <td>...</td>\n",
       "      <td>0.000081</td>\n",
       "      <td>0.000161</td>\n",
       "      <td>0.001670</td>\n",
       "      <td>0.000000</td>\n",
       "      <td>0.000055</td>\n",
       "      <td>0.000000</td>\n",
       "      <td>0.000232</td>\n",
       "      <td>0.000010</td>\n",
       "      <td>0.019086</td>\n",
       "      <td>0.000000</td>\n",
       "    </tr>\n",
       "  </tbody>\n",
       "</table>\n",
       "<p>5 rows × 55 columns</p>\n",
       "</div>"
      ],
      "text/plain": [
       "                                  EMR_04_10_MD  EMR_04_11_AT  EMR_04_13_KB  \\\n",
       "#OTU ID                                                                      \n",
       "Propionibacteriaceae                  0.332027      0.666855      0.561543   \n",
       "Staphylococcus caprae or capitis      0.528800      0.332987      0.219763   \n",
       "Staphylococcus epidermidis            0.138998      0.000158      0.217896   \n",
       "Staphylococcus hominis                0.000174      0.000000      0.000789   \n",
       "Other Staphylococci                   0.000000      0.000000      0.000009   \n",
       "\n",
       "                                  EMR_04_15_DB  EMR_04_17_BS  EMR_04_19_BK  \\\n",
       "#OTU ID                                                                      \n",
       "Propionibacteriaceae                  0.891106      0.953581      0.934267   \n",
       "Staphylococcus caprae or capitis      0.103000      0.045315      0.000717   \n",
       "Staphylococcus epidermidis            0.005556      0.001055      0.061597   \n",
       "Staphylococcus hominis                0.000102      0.000049      0.002969   \n",
       "Other Staphylococci                   0.000235      0.000000      0.000449   \n",
       "\n",
       "                                  EMR_04_1_JG  EMR_04_20_JP  EMR_04_21_DM  \\\n",
       "#OTU ID                                                                     \n",
       "Propionibacteriaceae                 0.744176      0.857723      0.952992   \n",
       "Staphylococcus caprae or capitis     0.254573      0.070421      0.046224   \n",
       "Staphylococcus epidermidis           0.001103      0.070647      0.000734   \n",
       "Staphylococcus hominis               0.000148      0.001209      0.000022   \n",
       "Other Staphylococci                  0.000000      0.000000      0.000028   \n",
       "\n",
       "                                  EMR_04_22_RS  ...  EMR_04_N-13_LB  \\\n",
       "#OTU ID                                         ...                   \n",
       "Propionibacteriaceae                  0.565385  ...        0.203518   \n",
       "Staphylococcus caprae or capitis      0.000611  ...        0.465449   \n",
       "Staphylococcus epidermidis            0.005383  ...        0.330953   \n",
       "Staphylococcus hominis                0.427676  ...        0.000000   \n",
       "Other Staphylococci                   0.000946  ...        0.000081   \n",
       "\n",
       "                                  EMR_04_N-16_PP  EMR_04_N-18_JG  \\\n",
       "#OTU ID                                                            \n",
       "Propionibacteriaceae                    0.206553        0.874048   \n",
       "Staphylococcus caprae or capitis        0.786049        0.119447   \n",
       "Staphylococcus epidermidis              0.005747        0.001297   \n",
       "Staphylococcus hominis                  0.001491        0.003537   \n",
       "Other Staphylococci                     0.000161        0.001670   \n",
       "\n",
       "                                  EMR_04_N-19_RC  EMR_04_N-21_AG  \\\n",
       "#OTU ID                                                            \n",
       "Propionibacteriaceae                    0.472923        0.765998   \n",
       "Staphylococcus caprae or capitis        0.436955        0.233420   \n",
       "Staphylococcus epidermidis              0.087936        0.000482   \n",
       "Staphylococcus hominis                  0.002185        0.000045   \n",
       "Other Staphylococci                     0.000000        0.000055   \n",
       "\n",
       "                                  EMR_04_N-29_BP  EMR_04_N-31_JG  \\\n",
       "#OTU ID                                                            \n",
       "Propionibacteriaceae                    0.898414        0.520952   \n",
       "Staphylococcus caprae or capitis        0.099802        0.380629   \n",
       "Staphylococcus epidermidis              0.001783        0.098053   \n",
       "Staphylococcus hominis                  0.000000        0.000134   \n",
       "Other Staphylococci                     0.000000        0.000232   \n",
       "\n",
       "                                  EMR_04_N-4_EV  EMR_04_N-5_CA  EMR_04_N-8_PC  \n",
       "#OTU ID                                                                        \n",
       "Propionibacteriaceae                   0.946872       0.874343       0.996344  \n",
       "Staphylococcus caprae or capitis       0.052941       0.060375       0.000445  \n",
       "Staphylococcus epidermidis             0.000175       0.043466       0.000000  \n",
       "Staphylococcus hominis                 0.000003       0.002729       0.003211  \n",
       "Other Staphylococci                    0.000010       0.019086       0.000000  \n",
       "\n",
       "[5 rows x 55 columns]"
      ]
     },
     "execution_count": 6,
     "metadata": {},
     "output_type": "execute_result"
    }
   ],
   "source": [
    "data_microbiome.head()"
   ]
  },
  {
   "cell_type": "markdown",
   "id": "d31cb3d7-c128-4b51-824c-830d490aba3c",
   "metadata": {},
   "source": [
    "Check if the microbiome dataset is scaled properly:"
   ]
  },
  {
   "cell_type": "code",
   "execution_count": 7,
   "id": "5a38d2a9-9713-44ae-ad86-cedf5ccb0b9d",
   "metadata": {
    "tags": []
   },
   "outputs": [
    {
     "data": {
      "text/plain": [
       "EMR_04_10_MD    1.0\n",
       "EMR_04_11_AT    1.0\n",
       "EMR_04_13_KB    1.0\n",
       "EMR_04_15_DB    1.0\n",
       "EMR_04_17_BS    1.0\n",
       "dtype: float64"
      ]
     },
     "execution_count": 7,
     "metadata": {},
     "output_type": "execute_result"
    }
   ],
   "source": [
    "data_microbiome.sum(axis=0).head()"
   ]
  },
  {
   "cell_type": "markdown",
   "id": "e1e246ac-6de5-445d-9cef-4eaf1b1fe086",
   "metadata": {},
   "source": [
    "## Data consistency\n",
    "\n",
    "Check whether both dataset have the same sets of columns:"
   ]
  },
  {
   "cell_type": "code",
   "execution_count": 8,
   "id": "4ff40363-9423-49b9-a3d4-8d17ca23da90",
   "metadata": {
    "tags": []
   },
   "outputs": [
    {
     "data": {
      "text/plain": [
       "{'EMR_04_N-22_RD'}"
      ]
     },
     "execution_count": 8,
     "metadata": {},
     "output_type": "execute_result"
    }
   ],
   "source": [
    "set(data_microbiome.columns) ^ set(data_metabolites.columns)"
   ]
  },
  {
   "cell_type": "markdown",
   "id": "6de5b4d8-398c-4941-87f8-e1f5d3705fa8",
   "metadata": {},
   "source": [
    "Sample 'EMR_04_N-22_RD' is missing in the microbiome dataset. Remove it also from the metabolites dataset:"
   ]
  },
  {
   "cell_type": "code",
   "execution_count": 9,
   "id": "fd613869-6c28-4da6-a9fb-72d931cade26",
   "metadata": {
    "tags": []
   },
   "outputs": [
    {
     "data": {
      "text/plain": [
       "(1225, 55)"
      ]
     },
     "execution_count": 9,
     "metadata": {},
     "output_type": "execute_result"
    }
   ],
   "source": [
    "data_metabolites = data_metabolites.drop('EMR_04_N-22_RD', axis=1)\n",
    "data_metabolites.shape"
   ]
  },
  {
   "cell_type": "code",
   "execution_count": 10,
   "id": "3c44a96c-9207-451c-a54a-e17274e6e3ec",
   "metadata": {
    "tags": []
   },
   "outputs": [
    {
     "data": {
      "text/plain": [
       "set()"
      ]
     },
     "execution_count": 10,
     "metadata": {},
     "output_type": "execute_result"
    }
   ],
   "source": [
    "set(data_microbiome.columns) ^ set(data_metabolites.columns)"
   ]
  },
  {
   "cell_type": "markdown",
   "id": "d8019858-5f30-44ba-8849-2a008de4534d",
   "metadata": {},
   "source": [
    "## Biom format"
   ]
  },
  {
   "cell_type": "code",
   "execution_count": 11,
   "id": "ef241aa8-c0d2-405e-ad73-a938a90ab22d",
   "metadata": {
    "tags": []
   },
   "outputs": [
    {
     "name": "stdout",
     "output_type": "stream",
     "text": [
      "metabolite_data_untargeted_families_baseline_samples_prepared.txt\n",
      "data_propi_staph_wide_prepared.txt\n"
     ]
    }
   ],
   "source": [
    "data_metabolites.to_csv(filename_metabolites[:-4]+'_prepared.txt', sep = '\\t')\n",
    "data_microbiome.to_csv(filename_microbiome[:-4]+'_prepared.txt', sep = '\\t')\n",
    "print(filename_metabolites[:-4]+'_prepared.txt')\n",
    "print(filename_microbiome[:-4]+'_prepared.txt')"
   ]
  },
  {
   "cell_type": "code",
   "execution_count": 12,
   "id": "b8b9422e-4354-4e55-802d-15ea24cb165d",
   "metadata": {
    "tags": []
   },
   "outputs": [],
   "source": [
    "!biom convert -i metabolite_data_untargeted_families_baseline_samples_prepared.txt \\\n",
    "    -o metabolite_data_untargeted_families_baseline_samples_prepared.biom \\\n",
    "    --to-hdf5 --table-type='Metabolite table'\n",
    "\n",
    "!biom convert -i data_propi_staph_wide_prepared.txt \\\n",
    "    -o data_propi_staph_wide_prepared.biom \\\n",
    "    --to-hdf5 --table-type='OTU table'"
   ]
  },
  {
   "cell_type": "markdown",
   "id": "f0b01740-2980-4c46-ad5e-ef952fb47440",
   "metadata": {},
   "source": [
    "## MMvec\n",
    "\n",
    "Check progress on Tensorboard: Open a new shell, move to the MMvec summary-dir, run \"tensorboard --logdir .\", and open http://localhost:6006/ in a browser.\n",
    "\n",
    "Guidelines for optimizing model parameters:\n",
    "\n",
    "* https://github.com/biocore/mmvec#faqs\n",
    "* https://saturncloud.io/blog/understanding-tensorflow-batch-size-in-input-placeholder/"
   ]
  },
  {
   "cell_type": "code",
   "execution_count": 13,
   "id": "7db83660-c979-48d0-b6f5-6f1d4a80ea8a",
   "metadata": {
    "tags": []
   },
   "outputs": [
    {
     "name": "stderr",
     "output_type": "stream",
     "text": [
      "/home/philipp/miniconda3/envs/mmvec-gpu-env/lib/python3.6/site-packages/skbio/util/_testing.py:16: FutureWarning: pandas.util.testing is deprecated. Use the functions in the public API at pandas.testing instead.\n",
      "  import pandas.util.testing as pdt\n"
     ]
    }
   ],
   "source": [
    "import os\n",
    "import time\n",
    "import click\n",
    "import datetime\n",
    "from tqdm import tqdm\n",
    "import pandas as pd\n",
    "import numpy as np\n",
    "from biom import load_table, Table\n",
    "from biom.util import biom_open\n",
    "from skbio import OrdinationResults\n",
    "from skbio.stats.composition import clr, centralize, closure\n",
    "from skbio.stats.composition import clr_inv as softmax\n",
    "from scipy.stats import entropy, spearmanr\n",
    "from scipy.sparse import coo_matrix\n",
    "from scipy.sparse.linalg import svds\n",
    "import tensorflow as tf\n",
    "from tensorflow.contrib.distributions import Multinomial, Normal\n",
    "from mmvec.multimodal import MMvec\n",
    "from mmvec.util import split_tables, format_params\n",
    "import matplotlib.pyplot as plt"
   ]
  },
  {
   "cell_type": "code",
   "execution_count": 14,
   "id": "37d44b21-545f-4228-902b-0d57bdfa75b1",
   "metadata": {
    "tags": []
   },
   "outputs": [],
   "source": [
    "microbe_file = 'data_propi_staph_wide_prepared.biom'\n",
    "metabolite_file = 'metabolite_data_untargeted_families_baseline_samples_prepared.biom'\n",
    "metadata_file = None\n",
    "training_column = None\n",
    "num_testing_examples = 7 \n",
    "min_feature_count = 1\n",
    "epochs = 30000\n",
    "batch_size = 4096\n",
    "latent_dim = 3\n",
    "input_prior = .1\n",
    "output_prior = .1\n",
    "arm_the_gpu = False\n",
    "learning_rate = 0.001\n",
    "beta1 = .9\n",
    "beta2 = .95\n",
    "clipnorm = 10.\n",
    "checkpoint_interval = 1000\n",
    "summary_interval = 1\n",
    "summary_dir = 'mmvec_propi_staph'\n",
    "embeddings_file = None\n",
    "ranks_file = None\n",
    "ordination_file = None\n",
    "equalize_biplot = False"
   ]
  },
  {
   "cell_type": "code",
   "execution_count": 15,
   "id": "f9fcae70-d0eb-4c8d-8699-cfcd17ba21ae",
   "metadata": {
    "tags": []
   },
   "outputs": [
    {
     "data": {
      "text/plain": [
       "5 x 55 <class 'biom.table.Table'> with 243 nonzero entries (88% dense)"
      ]
     },
     "execution_count": 15,
     "metadata": {},
     "output_type": "execute_result"
    }
   ],
   "source": [
    "microbes = load_table(microbe_file)\n",
    "microbes"
   ]
  },
  {
   "cell_type": "code",
   "execution_count": 16,
   "id": "24c81340-187a-4f1b-bf95-293fb7a65efa",
   "metadata": {
    "tags": []
   },
   "outputs": [
    {
     "data": {
      "text/plain": [
       "1225 x 55 <class 'biom.table.Table'> with 67375 nonzero entries (100% dense)"
      ]
     },
     "execution_count": 16,
     "metadata": {},
     "output_type": "execute_result"
    }
   ],
   "source": [
    "metabolites = load_table(metabolite_file)\n",
    "metabolites"
   ]
  },
  {
   "cell_type": "code",
   "execution_count": 17,
   "id": "6334b2e0-4f28-4e0f-bba8-252003a7327d",
   "metadata": {
    "tags": []
   },
   "outputs": [],
   "source": [
    "if metadata_file is not None:\n",
    "    metadata = pd.read_table(metadata_file, index_col=0)\n",
    "else:\n",
    "    metadata = None\n",
    "    \n",
    "res = split_tables(\n",
    "    microbes, metabolites,\n",
    "    metadata=metadata, training_column=training_column,\n",
    "    num_test=num_testing_examples,\n",
    "    min_samples=min_feature_count)\n",
    "\n",
    "(train_microbes_df, test_microbes_df,\n",
    " train_metabolites_df, test_metabolites_df) = res"
   ]
  },
  {
   "cell_type": "code",
   "execution_count": 18,
   "id": "c633bdca-8188-4306-a334-ade6937c3b44",
   "metadata": {
    "tags": []
   },
   "outputs": [
    {
     "data": {
      "text/html": [
       "<div>\n",
       "<style scoped>\n",
       "    .dataframe tbody tr th:only-of-type {\n",
       "        vertical-align: middle;\n",
       "    }\n",
       "\n",
       "    .dataframe tbody tr th {\n",
       "        vertical-align: top;\n",
       "    }\n",
       "\n",
       "    .dataframe thead th {\n",
       "        text-align: right;\n",
       "    }\n",
       "</style>\n",
       "<table border=\"1\" class=\"dataframe\">\n",
       "  <thead>\n",
       "    <tr style=\"text-align: right;\">\n",
       "      <th></th>\n",
       "      <th>Propionibacteriaceae</th>\n",
       "      <th>Staphylococcus caprae or capitis</th>\n",
       "      <th>Staphylococcus epidermidis</th>\n",
       "      <th>Staphylococcus hominis</th>\n",
       "      <th>Other Staphylococci</th>\n",
       "    </tr>\n",
       "  </thead>\n",
       "  <tbody>\n",
       "    <tr>\n",
       "      <th>EMR_04_13_KB</th>\n",
       "      <td>0.561543</td>\n",
       "      <td>0.219763</td>\n",
       "      <td>0.217896</td>\n",
       "      <td>0.000789</td>\n",
       "      <td>0.000009</td>\n",
       "    </tr>\n",
       "    <tr>\n",
       "      <th>EMR_04_15_DB</th>\n",
       "      <td>0.891106</td>\n",
       "      <td>0.103000</td>\n",
       "      <td>0.005556</td>\n",
       "      <td>0.000102</td>\n",
       "      <td>0.000235</td>\n",
       "    </tr>\n",
       "    <tr>\n",
       "      <th>EMR_04_17_BS</th>\n",
       "      <td>0.953581</td>\n",
       "      <td>0.045315</td>\n",
       "      <td>0.001055</td>\n",
       "      <td>0.000049</td>\n",
       "      <td>0.000000</td>\n",
       "    </tr>\n",
       "    <tr>\n",
       "      <th>EMR_04_19_BK</th>\n",
       "      <td>0.934267</td>\n",
       "      <td>0.000717</td>\n",
       "      <td>0.061597</td>\n",
       "      <td>0.002969</td>\n",
       "      <td>0.000449</td>\n",
       "    </tr>\n",
       "    <tr>\n",
       "      <th>EMR_04_1_JG</th>\n",
       "      <td>0.744176</td>\n",
       "      <td>0.254573</td>\n",
       "      <td>0.001103</td>\n",
       "      <td>0.000148</td>\n",
       "      <td>0.000000</td>\n",
       "    </tr>\n",
       "  </tbody>\n",
       "</table>\n",
       "</div>"
      ],
      "text/plain": [
       "              Propionibacteriaceae  Staphylococcus caprae or capitis  \\\n",
       "EMR_04_13_KB              0.561543                          0.219763   \n",
       "EMR_04_15_DB              0.891106                          0.103000   \n",
       "EMR_04_17_BS              0.953581                          0.045315   \n",
       "EMR_04_19_BK              0.934267                          0.000717   \n",
       "EMR_04_1_JG               0.744176                          0.254573   \n",
       "\n",
       "              Staphylococcus epidermidis  Staphylococcus hominis  \\\n",
       "EMR_04_13_KB                    0.217896                0.000789   \n",
       "EMR_04_15_DB                    0.005556                0.000102   \n",
       "EMR_04_17_BS                    0.001055                0.000049   \n",
       "EMR_04_19_BK                    0.061597                0.002969   \n",
       "EMR_04_1_JG                     0.001103                0.000148   \n",
       "\n",
       "              Other Staphylococci  \n",
       "EMR_04_13_KB             0.000009  \n",
       "EMR_04_15_DB             0.000235  \n",
       "EMR_04_17_BS             0.000000  \n",
       "EMR_04_19_BK             0.000449  \n",
       "EMR_04_1_JG              0.000000  "
      ]
     },
     "execution_count": 18,
     "metadata": {},
     "output_type": "execute_result"
    }
   ],
   "source": [
    "train_microbes_df.head()"
   ]
  },
  {
   "cell_type": "code",
   "execution_count": 19,
   "id": "876cb1cf-52c0-4a67-9984-09df23668661",
   "metadata": {
    "tags": []
   },
   "outputs": [
    {
     "data": {
      "text/html": [
       "<div>\n",
       "<style scoped>\n",
       "    .dataframe tbody tr th:only-of-type {\n",
       "        vertical-align: middle;\n",
       "    }\n",
       "\n",
       "    .dataframe tbody tr th {\n",
       "        vertical-align: top;\n",
       "    }\n",
       "\n",
       "    .dataframe thead th {\n",
       "        text-align: right;\n",
       "    }\n",
       "</style>\n",
       "<table border=\"1\" class=\"dataframe\">\n",
       "  <thead>\n",
       "    <tr style=\"text-align: right;\">\n",
       "      <th></th>\n",
       "      <th>Propionibacteriaceae</th>\n",
       "      <th>Staphylococcus caprae or capitis</th>\n",
       "      <th>Staphylococcus epidermidis</th>\n",
       "      <th>Staphylococcus hominis</th>\n",
       "      <th>Other Staphylococci</th>\n",
       "    </tr>\n",
       "  </thead>\n",
       "  <tbody>\n",
       "    <tr>\n",
       "      <th>EMR_04_10_MD</th>\n",
       "      <td>0.332027</td>\n",
       "      <td>0.528800</td>\n",
       "      <td>0.138998</td>\n",
       "      <td>0.000174</td>\n",
       "      <td>0.000000</td>\n",
       "    </tr>\n",
       "    <tr>\n",
       "      <th>EMR_04_11_AT</th>\n",
       "      <td>0.666855</td>\n",
       "      <td>0.332987</td>\n",
       "      <td>0.000158</td>\n",
       "      <td>0.000000</td>\n",
       "      <td>0.000000</td>\n",
       "    </tr>\n",
       "    <tr>\n",
       "      <th>EMR_04_44_DTA</th>\n",
       "      <td>0.684542</td>\n",
       "      <td>0.314588</td>\n",
       "      <td>0.000655</td>\n",
       "      <td>0.000216</td>\n",
       "      <td>0.000000</td>\n",
       "    </tr>\n",
       "    <tr>\n",
       "      <th>EMR_04_48_LD</th>\n",
       "      <td>0.263309</td>\n",
       "      <td>0.723342</td>\n",
       "      <td>0.011894</td>\n",
       "      <td>0.000441</td>\n",
       "      <td>0.001014</td>\n",
       "    </tr>\n",
       "    <tr>\n",
       "      <th>EMR_04_68_VG</th>\n",
       "      <td>0.510034</td>\n",
       "      <td>0.015315</td>\n",
       "      <td>0.452309</td>\n",
       "      <td>0.022058</td>\n",
       "      <td>0.000283</td>\n",
       "    </tr>\n",
       "    <tr>\n",
       "      <th>EMR_04_N-19_RC</th>\n",
       "      <td>0.472923</td>\n",
       "      <td>0.436955</td>\n",
       "      <td>0.087936</td>\n",
       "      <td>0.002185</td>\n",
       "      <td>0.000000</td>\n",
       "    </tr>\n",
       "  </tbody>\n",
       "</table>\n",
       "</div>"
      ],
      "text/plain": [
       "                Propionibacteriaceae  Staphylococcus caprae or capitis  \\\n",
       "EMR_04_10_MD                0.332027                          0.528800   \n",
       "EMR_04_11_AT                0.666855                          0.332987   \n",
       "EMR_04_44_DTA               0.684542                          0.314588   \n",
       "EMR_04_48_LD                0.263309                          0.723342   \n",
       "EMR_04_68_VG                0.510034                          0.015315   \n",
       "EMR_04_N-19_RC              0.472923                          0.436955   \n",
       "\n",
       "                Staphylococcus epidermidis  Staphylococcus hominis  \\\n",
       "EMR_04_10_MD                      0.138998                0.000174   \n",
       "EMR_04_11_AT                      0.000158                0.000000   \n",
       "EMR_04_44_DTA                     0.000655                0.000216   \n",
       "EMR_04_48_LD                      0.011894                0.000441   \n",
       "EMR_04_68_VG                      0.452309                0.022058   \n",
       "EMR_04_N-19_RC                    0.087936                0.002185   \n",
       "\n",
       "                Other Staphylococci  \n",
       "EMR_04_10_MD               0.000000  \n",
       "EMR_04_11_AT               0.000000  \n",
       "EMR_04_44_DTA              0.000000  \n",
       "EMR_04_48_LD               0.001014  \n",
       "EMR_04_68_VG               0.000283  \n",
       "EMR_04_N-19_RC             0.000000  "
      ]
     },
     "execution_count": 19,
     "metadata": {},
     "output_type": "execute_result"
    }
   ],
   "source": [
    "test_microbes_df"
   ]
  },
  {
   "cell_type": "code",
   "execution_count": 20,
   "id": "6248c036-247c-4e2b-8ad9-3729c8218685",
   "metadata": {
    "tags": []
   },
   "outputs": [
    {
     "data": {
      "text/html": [
       "<div>\n",
       "<style scoped>\n",
       "    .dataframe tbody tr th:only-of-type {\n",
       "        vertical-align: middle;\n",
       "    }\n",
       "\n",
       "    .dataframe tbody tr th {\n",
       "        vertical-align: top;\n",
       "    }\n",
       "\n",
       "    .dataframe thead th {\n",
       "        text-align: right;\n",
       "    }\n",
       "</style>\n",
       "<table border=\"1\" class=\"dataframe\">\n",
       "  <thead>\n",
       "    <tr style=\"text-align: right;\">\n",
       "      <th></th>\n",
       "      <th>X940001</th>\n",
       "      <th>X940002</th>\n",
       "      <th>X940005</th>\n",
       "      <th>X940007</th>\n",
       "      <th>X940010</th>\n",
       "      <th>X940013</th>\n",
       "      <th>X940014</th>\n",
       "      <th>X940015</th>\n",
       "      <th>X940019</th>\n",
       "      <th>X940021</th>\n",
       "      <th>...</th>\n",
       "      <th>X970731</th>\n",
       "      <th>X970732</th>\n",
       "      <th>X970737</th>\n",
       "      <th>X970745</th>\n",
       "      <th>X970784</th>\n",
       "      <th>X970791</th>\n",
       "      <th>X970813</th>\n",
       "      <th>X970860</th>\n",
       "      <th>X970932</th>\n",
       "      <th>X970960</th>\n",
       "    </tr>\n",
       "  </thead>\n",
       "  <tbody>\n",
       "    <tr>\n",
       "      <th>EMR_04_13_KB</th>\n",
       "      <td>0.001207</td>\n",
       "      <td>0.001052</td>\n",
       "      <td>0.000499</td>\n",
       "      <td>0.001579</td>\n",
       "      <td>0.001402</td>\n",
       "      <td>0.001208</td>\n",
       "      <td>0.000008</td>\n",
       "      <td>0.000993</td>\n",
       "      <td>0.000290</td>\n",
       "      <td>0.002349</td>\n",
       "      <td>...</td>\n",
       "      <td>0.000681</td>\n",
       "      <td>0.000911</td>\n",
       "      <td>0.000508</td>\n",
       "      <td>0.000191</td>\n",
       "      <td>0.000576</td>\n",
       "      <td>0.000268</td>\n",
       "      <td>0.000616</td>\n",
       "      <td>0.000650</td>\n",
       "      <td>0.000475</td>\n",
       "      <td>0.000623</td>\n",
       "    </tr>\n",
       "    <tr>\n",
       "      <th>EMR_04_15_DB</th>\n",
       "      <td>0.000609</td>\n",
       "      <td>0.000519</td>\n",
       "      <td>0.000337</td>\n",
       "      <td>0.001090</td>\n",
       "      <td>0.002410</td>\n",
       "      <td>0.000648</td>\n",
       "      <td>0.000713</td>\n",
       "      <td>0.000954</td>\n",
       "      <td>0.000217</td>\n",
       "      <td>0.000216</td>\n",
       "      <td>...</td>\n",
       "      <td>0.000761</td>\n",
       "      <td>0.000494</td>\n",
       "      <td>0.001558</td>\n",
       "      <td>0.000121</td>\n",
       "      <td>0.000682</td>\n",
       "      <td>0.000541</td>\n",
       "      <td>0.000529</td>\n",
       "      <td>0.000675</td>\n",
       "      <td>0.001299</td>\n",
       "      <td>0.000731</td>\n",
       "    </tr>\n",
       "    <tr>\n",
       "      <th>EMR_04_17_BS</th>\n",
       "      <td>0.000483</td>\n",
       "      <td>0.001044</td>\n",
       "      <td>0.000704</td>\n",
       "      <td>0.001365</td>\n",
       "      <td>0.001015</td>\n",
       "      <td>0.000772</td>\n",
       "      <td>0.000057</td>\n",
       "      <td>0.000941</td>\n",
       "      <td>0.000708</td>\n",
       "      <td>0.000043</td>\n",
       "      <td>...</td>\n",
       "      <td>0.000571</td>\n",
       "      <td>0.000589</td>\n",
       "      <td>0.000571</td>\n",
       "      <td>0.000069</td>\n",
       "      <td>0.000297</td>\n",
       "      <td>0.000375</td>\n",
       "      <td>0.000893</td>\n",
       "      <td>0.000822</td>\n",
       "      <td>0.000858</td>\n",
       "      <td>0.000818</td>\n",
       "    </tr>\n",
       "    <tr>\n",
       "      <th>EMR_04_19_BK</th>\n",
       "      <td>0.000788</td>\n",
       "      <td>0.001009</td>\n",
       "      <td>0.001518</td>\n",
       "      <td>0.001501</td>\n",
       "      <td>0.000287</td>\n",
       "      <td>0.001373</td>\n",
       "      <td>0.000046</td>\n",
       "      <td>0.000743</td>\n",
       "      <td>0.001283</td>\n",
       "      <td>0.001121</td>\n",
       "      <td>...</td>\n",
       "      <td>0.000759</td>\n",
       "      <td>0.000904</td>\n",
       "      <td>0.000367</td>\n",
       "      <td>0.000608</td>\n",
       "      <td>0.000660</td>\n",
       "      <td>0.000085</td>\n",
       "      <td>0.000543</td>\n",
       "      <td>0.001012</td>\n",
       "      <td>0.000451</td>\n",
       "      <td>0.000364</td>\n",
       "    </tr>\n",
       "    <tr>\n",
       "      <th>EMR_04_1_JG</th>\n",
       "      <td>0.001053</td>\n",
       "      <td>0.000515</td>\n",
       "      <td>0.000348</td>\n",
       "      <td>0.000859</td>\n",
       "      <td>0.000378</td>\n",
       "      <td>0.000809</td>\n",
       "      <td>0.000097</td>\n",
       "      <td>0.000592</td>\n",
       "      <td>0.000452</td>\n",
       "      <td>0.011874</td>\n",
       "      <td>...</td>\n",
       "      <td>0.000436</td>\n",
       "      <td>0.001521</td>\n",
       "      <td>0.000439</td>\n",
       "      <td>0.000075</td>\n",
       "      <td>0.001096</td>\n",
       "      <td>0.000208</td>\n",
       "      <td>0.000440</td>\n",
       "      <td>0.000679</td>\n",
       "      <td>0.000701</td>\n",
       "      <td>0.000097</td>\n",
       "    </tr>\n",
       "  </tbody>\n",
       "</table>\n",
       "<p>5 rows × 1225 columns</p>\n",
       "</div>"
      ],
      "text/plain": [
       "               X940001   X940002   X940005   X940007   X940010   X940013  \\\n",
       "EMR_04_13_KB  0.001207  0.001052  0.000499  0.001579  0.001402  0.001208   \n",
       "EMR_04_15_DB  0.000609  0.000519  0.000337  0.001090  0.002410  0.000648   \n",
       "EMR_04_17_BS  0.000483  0.001044  0.000704  0.001365  0.001015  0.000772   \n",
       "EMR_04_19_BK  0.000788  0.001009  0.001518  0.001501  0.000287  0.001373   \n",
       "EMR_04_1_JG   0.001053  0.000515  0.000348  0.000859  0.000378  0.000809   \n",
       "\n",
       "               X940014   X940015   X940019   X940021  ...   X970731   X970732  \\\n",
       "EMR_04_13_KB  0.000008  0.000993  0.000290  0.002349  ...  0.000681  0.000911   \n",
       "EMR_04_15_DB  0.000713  0.000954  0.000217  0.000216  ...  0.000761  0.000494   \n",
       "EMR_04_17_BS  0.000057  0.000941  0.000708  0.000043  ...  0.000571  0.000589   \n",
       "EMR_04_19_BK  0.000046  0.000743  0.001283  0.001121  ...  0.000759  0.000904   \n",
       "EMR_04_1_JG   0.000097  0.000592  0.000452  0.011874  ...  0.000436  0.001521   \n",
       "\n",
       "               X970737   X970745   X970784   X970791   X970813   X970860  \\\n",
       "EMR_04_13_KB  0.000508  0.000191  0.000576  0.000268  0.000616  0.000650   \n",
       "EMR_04_15_DB  0.001558  0.000121  0.000682  0.000541  0.000529  0.000675   \n",
       "EMR_04_17_BS  0.000571  0.000069  0.000297  0.000375  0.000893  0.000822   \n",
       "EMR_04_19_BK  0.000367  0.000608  0.000660  0.000085  0.000543  0.001012   \n",
       "EMR_04_1_JG   0.000439  0.000075  0.001096  0.000208  0.000440  0.000679   \n",
       "\n",
       "               X970932   X970960  \n",
       "EMR_04_13_KB  0.000475  0.000623  \n",
       "EMR_04_15_DB  0.001299  0.000731  \n",
       "EMR_04_17_BS  0.000858  0.000818  \n",
       "EMR_04_19_BK  0.000451  0.000364  \n",
       "EMR_04_1_JG   0.000701  0.000097  \n",
       "\n",
       "[5 rows x 1225 columns]"
      ]
     },
     "execution_count": 20,
     "metadata": {},
     "output_type": "execute_result"
    }
   ],
   "source": [
    "train_metabolites_df.head()"
   ]
  },
  {
   "cell_type": "code",
   "execution_count": 21,
   "id": "cc8f5d00-742e-40c0-bb61-da66122b3ec2",
   "metadata": {
    "tags": []
   },
   "outputs": [
    {
     "data": {
      "text/html": [
       "<div>\n",
       "<style scoped>\n",
       "    .dataframe tbody tr th:only-of-type {\n",
       "        vertical-align: middle;\n",
       "    }\n",
       "\n",
       "    .dataframe tbody tr th {\n",
       "        vertical-align: top;\n",
       "    }\n",
       "\n",
       "    .dataframe thead th {\n",
       "        text-align: right;\n",
       "    }\n",
       "</style>\n",
       "<table border=\"1\" class=\"dataframe\">\n",
       "  <thead>\n",
       "    <tr style=\"text-align: right;\">\n",
       "      <th></th>\n",
       "      <th>X940001</th>\n",
       "      <th>X940002</th>\n",
       "      <th>X940005</th>\n",
       "      <th>X940007</th>\n",
       "      <th>X940010</th>\n",
       "      <th>X940013</th>\n",
       "      <th>X940014</th>\n",
       "      <th>X940015</th>\n",
       "      <th>X940019</th>\n",
       "      <th>X940021</th>\n",
       "      <th>...</th>\n",
       "      <th>X970731</th>\n",
       "      <th>X970732</th>\n",
       "      <th>X970737</th>\n",
       "      <th>X970745</th>\n",
       "      <th>X970784</th>\n",
       "      <th>X970791</th>\n",
       "      <th>X970813</th>\n",
       "      <th>X970860</th>\n",
       "      <th>X970932</th>\n",
       "      <th>X970960</th>\n",
       "    </tr>\n",
       "  </thead>\n",
       "  <tbody>\n",
       "    <tr>\n",
       "      <th>EMR_04_10_MD</th>\n",
       "      <td>0.000557</td>\n",
       "      <td>0.000561</td>\n",
       "      <td>0.000621</td>\n",
       "      <td>0.000345</td>\n",
       "      <td>0.000250</td>\n",
       "      <td>0.000675</td>\n",
       "      <td>0.000069</td>\n",
       "      <td>0.000929</td>\n",
       "      <td>0.001190</td>\n",
       "      <td>0.000441</td>\n",
       "      <td>...</td>\n",
       "      <td>0.000745</td>\n",
       "      <td>0.000557</td>\n",
       "      <td>0.001039</td>\n",
       "      <td>0.000065</td>\n",
       "      <td>0.000935</td>\n",
       "      <td>0.000006</td>\n",
       "      <td>0.001302</td>\n",
       "      <td>0.001337</td>\n",
       "      <td>0.001439</td>\n",
       "      <td>0.000112</td>\n",
       "    </tr>\n",
       "    <tr>\n",
       "      <th>EMR_04_11_AT</th>\n",
       "      <td>0.000589</td>\n",
       "      <td>0.000386</td>\n",
       "      <td>0.000293</td>\n",
       "      <td>0.000772</td>\n",
       "      <td>0.003218</td>\n",
       "      <td>0.000635</td>\n",
       "      <td>0.000048</td>\n",
       "      <td>0.000659</td>\n",
       "      <td>0.000239</td>\n",
       "      <td>0.000052</td>\n",
       "      <td>...</td>\n",
       "      <td>0.000611</td>\n",
       "      <td>0.000364</td>\n",
       "      <td>0.000174</td>\n",
       "      <td>0.000066</td>\n",
       "      <td>0.001296</td>\n",
       "      <td>0.000104</td>\n",
       "      <td>0.001231</td>\n",
       "      <td>0.001205</td>\n",
       "      <td>0.001336</td>\n",
       "      <td>0.010300</td>\n",
       "    </tr>\n",
       "    <tr>\n",
       "      <th>EMR_04_44_DTA</th>\n",
       "      <td>0.001100</td>\n",
       "      <td>0.000779</td>\n",
       "      <td>0.000680</td>\n",
       "      <td>0.000820</td>\n",
       "      <td>0.001336</td>\n",
       "      <td>0.001403</td>\n",
       "      <td>0.000277</td>\n",
       "      <td>0.000806</td>\n",
       "      <td>0.000249</td>\n",
       "      <td>0.001969</td>\n",
       "      <td>...</td>\n",
       "      <td>0.000794</td>\n",
       "      <td>0.000895</td>\n",
       "      <td>0.000581</td>\n",
       "      <td>0.000227</td>\n",
       "      <td>0.000836</td>\n",
       "      <td>0.000476</td>\n",
       "      <td>0.000885</td>\n",
       "      <td>0.000792</td>\n",
       "      <td>0.000674</td>\n",
       "      <td>0.000287</td>\n",
       "    </tr>\n",
       "    <tr>\n",
       "      <th>EMR_04_48_LD</th>\n",
       "      <td>0.000917</td>\n",
       "      <td>0.000611</td>\n",
       "      <td>0.000723</td>\n",
       "      <td>0.002124</td>\n",
       "      <td>0.000357</td>\n",
       "      <td>0.001125</td>\n",
       "      <td>0.000101</td>\n",
       "      <td>0.000920</td>\n",
       "      <td>0.000490</td>\n",
       "      <td>0.001000</td>\n",
       "      <td>...</td>\n",
       "      <td>0.000302</td>\n",
       "      <td>0.001139</td>\n",
       "      <td>0.000757</td>\n",
       "      <td>0.000169</td>\n",
       "      <td>0.000983</td>\n",
       "      <td>0.000455</td>\n",
       "      <td>0.000452</td>\n",
       "      <td>0.000520</td>\n",
       "      <td>0.000381</td>\n",
       "      <td>0.000467</td>\n",
       "    </tr>\n",
       "    <tr>\n",
       "      <th>EMR_04_68_VG</th>\n",
       "      <td>0.000683</td>\n",
       "      <td>0.000551</td>\n",
       "      <td>0.000627</td>\n",
       "      <td>0.000562</td>\n",
       "      <td>0.001528</td>\n",
       "      <td>0.000675</td>\n",
       "      <td>0.000057</td>\n",
       "      <td>0.001161</td>\n",
       "      <td>0.000438</td>\n",
       "      <td>0.000100</td>\n",
       "      <td>...</td>\n",
       "      <td>0.000882</td>\n",
       "      <td>0.000512</td>\n",
       "      <td>0.000415</td>\n",
       "      <td>0.000079</td>\n",
       "      <td>0.000387</td>\n",
       "      <td>0.000902</td>\n",
       "      <td>0.001187</td>\n",
       "      <td>0.000427</td>\n",
       "      <td>0.000531</td>\n",
       "      <td>0.000296</td>\n",
       "    </tr>\n",
       "    <tr>\n",
       "      <th>EMR_04_N-19_RC</th>\n",
       "      <td>0.001183</td>\n",
       "      <td>0.000756</td>\n",
       "      <td>0.001058</td>\n",
       "      <td>0.000941</td>\n",
       "      <td>0.000541</td>\n",
       "      <td>0.000654</td>\n",
       "      <td>0.000061</td>\n",
       "      <td>0.000422</td>\n",
       "      <td>0.000409</td>\n",
       "      <td>0.002472</td>\n",
       "      <td>...</td>\n",
       "      <td>0.000504</td>\n",
       "      <td>0.000884</td>\n",
       "      <td>0.000248</td>\n",
       "      <td>0.000250</td>\n",
       "      <td>0.000381</td>\n",
       "      <td>0.001506</td>\n",
       "      <td>0.000904</td>\n",
       "      <td>0.000326</td>\n",
       "      <td>0.000389</td>\n",
       "      <td>0.000665</td>\n",
       "    </tr>\n",
       "  </tbody>\n",
       "</table>\n",
       "<p>6 rows × 1225 columns</p>\n",
       "</div>"
      ],
      "text/plain": [
       "                 X940001   X940002   X940005   X940007   X940010   X940013  \\\n",
       "EMR_04_10_MD    0.000557  0.000561  0.000621  0.000345  0.000250  0.000675   \n",
       "EMR_04_11_AT    0.000589  0.000386  0.000293  0.000772  0.003218  0.000635   \n",
       "EMR_04_44_DTA   0.001100  0.000779  0.000680  0.000820  0.001336  0.001403   \n",
       "EMR_04_48_LD    0.000917  0.000611  0.000723  0.002124  0.000357  0.001125   \n",
       "EMR_04_68_VG    0.000683  0.000551  0.000627  0.000562  0.001528  0.000675   \n",
       "EMR_04_N-19_RC  0.001183  0.000756  0.001058  0.000941  0.000541  0.000654   \n",
       "\n",
       "                 X940014   X940015   X940019   X940021  ...   X970731  \\\n",
       "EMR_04_10_MD    0.000069  0.000929  0.001190  0.000441  ...  0.000745   \n",
       "EMR_04_11_AT    0.000048  0.000659  0.000239  0.000052  ...  0.000611   \n",
       "EMR_04_44_DTA   0.000277  0.000806  0.000249  0.001969  ...  0.000794   \n",
       "EMR_04_48_LD    0.000101  0.000920  0.000490  0.001000  ...  0.000302   \n",
       "EMR_04_68_VG    0.000057  0.001161  0.000438  0.000100  ...  0.000882   \n",
       "EMR_04_N-19_RC  0.000061  0.000422  0.000409  0.002472  ...  0.000504   \n",
       "\n",
       "                 X970732   X970737   X970745   X970784   X970791   X970813  \\\n",
       "EMR_04_10_MD    0.000557  0.001039  0.000065  0.000935  0.000006  0.001302   \n",
       "EMR_04_11_AT    0.000364  0.000174  0.000066  0.001296  0.000104  0.001231   \n",
       "EMR_04_44_DTA   0.000895  0.000581  0.000227  0.000836  0.000476  0.000885   \n",
       "EMR_04_48_LD    0.001139  0.000757  0.000169  0.000983  0.000455  0.000452   \n",
       "EMR_04_68_VG    0.000512  0.000415  0.000079  0.000387  0.000902  0.001187   \n",
       "EMR_04_N-19_RC  0.000884  0.000248  0.000250  0.000381  0.001506  0.000904   \n",
       "\n",
       "                 X970860   X970932   X970960  \n",
       "EMR_04_10_MD    0.001337  0.001439  0.000112  \n",
       "EMR_04_11_AT    0.001205  0.001336  0.010300  \n",
       "EMR_04_44_DTA   0.000792  0.000674  0.000287  \n",
       "EMR_04_48_LD    0.000520  0.000381  0.000467  \n",
       "EMR_04_68_VG    0.000427  0.000531  0.000296  \n",
       "EMR_04_N-19_RC  0.000326  0.000389  0.000665  \n",
       "\n",
       "[6 rows x 1225 columns]"
      ]
     },
     "execution_count": 21,
     "metadata": {},
     "output_type": "execute_result"
    }
   ],
   "source": [
    "test_metabolites_df"
   ]
  },
  {
   "cell_type": "code",
   "execution_count": 22,
   "id": "700570ea-5fe3-409a-8ab7-baf06da45296",
   "metadata": {
    "tags": []
   },
   "outputs": [],
   "source": [
    "params = []\n",
    "\n",
    "sname = 'latent_dim_' + str(latent_dim) + \\\n",
    "       '_input_prior_%.2f' % input_prior + \\\n",
    "       '_output_prior_%.2f' % output_prior + \\\n",
    "       '_beta1_%.2f' % beta1 + \\\n",
    "       '_beta2_%.2f' % beta2\n",
    "\n",
    "sname = os.path.join(summary_dir, sname)\n",
    "if embeddings_file is None:\n",
    "    embeddings_file = sname + \"_embedding.txt\"\n",
    "if ranks_file is None:\n",
    "    ranks_file = sname + \"_ranks.txt\"\n",
    "if ordination_file is None:\n",
    "    ordination_file = sname + \"_ordination.txt\""
   ]
  },
  {
   "cell_type": "code",
   "execution_count": 23,
   "id": "b60ae49e-5652-4f21-96af-9533279b351f",
   "metadata": {
    "tags": []
   },
   "outputs": [
    {
     "data": {
      "text/plain": [
       "(5, 55)"
      ]
     },
     "execution_count": 23,
     "metadata": {},
     "output_type": "execute_result"
    }
   ],
   "source": [
    "n, d1 = microbes.shape\n",
    "microbes.shape"
   ]
  },
  {
   "cell_type": "code",
   "execution_count": 24,
   "id": "d5f38f1b-25ab-4016-a4d0-1bf9283aa522",
   "metadata": {
    "tags": []
   },
   "outputs": [
    {
     "data": {
      "text/plain": [
       "(1225, 55)"
      ]
     },
     "execution_count": 24,
     "metadata": {},
     "output_type": "execute_result"
    }
   ],
   "source": [
    "n, d2 = metabolites.shape\n",
    "metabolites.shape"
   ]
  },
  {
   "cell_type": "code",
   "execution_count": 25,
   "id": "77fcaba8-4efd-42b9-b5e2-8448218654f2",
   "metadata": {
    "tags": []
   },
   "outputs": [
    {
     "data": {
      "text/plain": [
       "<49x5 sparse matrix of type '<class 'numpy.float64'>'\n",
       "\twith 218 stored elements in COOrdinate format>"
      ]
     },
     "execution_count": 25,
     "metadata": {},
     "output_type": "execute_result"
    }
   ],
   "source": [
    "train_microbes_coo = coo_matrix(train_microbes_df.values)\n",
    "train_microbes_coo"
   ]
  },
  {
   "cell_type": "code",
   "execution_count": 26,
   "id": "75aa07ca-2804-44ce-9179-b002078ab2bb",
   "metadata": {
    "tags": []
   },
   "outputs": [
    {
     "data": {
      "text/plain": [
       "<6x5 sparse matrix of type '<class 'numpy.float64'>'\n",
       "\twith 25 stored elements in COOrdinate format>"
      ]
     },
     "execution_count": 26,
     "metadata": {},
     "output_type": "execute_result"
    }
   ],
   "source": [
    "test_microbes_coo = coo_matrix(test_microbes_df.values)\n",
    "test_microbes_coo"
   ]
  },
  {
   "cell_type": "code",
   "execution_count": 27,
   "id": "cac3238f-70b9-4019-80a3-6346fe409f1a",
   "metadata": {
    "tags": []
   },
   "outputs": [],
   "source": [
    "if arm_the_gpu:\n",
    "    # pick out the first GPU\n",
    "    device_name='/device:GPU:0'\n",
    "else:\n",
    "    device_name='/cpu:0'\n",
    "\n",
    "config = tf.ConfigProto()"
   ]
  },
  {
   "cell_type": "code",
   "execution_count": 28,
   "id": "d7756a8c-2734-47ed-87c8-34a3ee659cf7",
   "metadata": {
    "tags": []
   },
   "outputs": [
    {
     "name": "stdout",
     "output_type": "stream",
     "text": [
      "WARNING:tensorflow:From /home/philipp/miniconda3/envs/mmvec-gpu-env/lib/python3.6/site-packages/mmvec/multimodal.py:90: The name tf.log is deprecated. Please use tf.math.log instead.\n",
      "\n",
      "WARNING:tensorflow:From /home/philipp/miniconda3/envs/mmvec-gpu-env/lib/python3.6/site-packages/mmvec/multimodal.py:91: multinomial (from tensorflow.python.ops.random_ops) is deprecated and will be removed in a future version.\n",
      "Instructions for updating:\n",
      "Use `tf.random.categorical` instead.\n",
      "WARNING:tensorflow:From /home/philipp/miniconda3/envs/mmvec-gpu-env/lib/python3.6/site-packages/mmvec/multimodal.py:102: The name tf.random_normal is deprecated. Please use tf.random.normal instead.\n",
      "\n",
      "WARNING:tensorflow:From /home/philipp/miniconda3/envs/mmvec-gpu-env/lib/python3.6/site-packages/mmvec/multimodal.py:118: Normal.__init__ (from tensorflow.python.ops.distributions.normal) is deprecated and will be removed after 2019-01-01.\n",
      "Instructions for updating:\n",
      "The TensorFlow Distributions library has moved to TensorFlow Probability (https://github.com/tensorflow/probability). You should update all references to use `tfp.distributions` instead of `tf.distributions`.\n",
      "WARNING:tensorflow:From /home/philipp/miniconda3/envs/mmvec-gpu-env/lib/python3.6/site-packages/tensorflow_core/python/ops/distributions/normal.py:160: Distribution.__init__ (from tensorflow.python.ops.distributions.distribution) is deprecated and will be removed after 2019-01-01.\n",
      "Instructions for updating:\n",
      "The TensorFlow Distributions library has moved to TensorFlow Probability (https://github.com/tensorflow/probability). You should update all references to use `tfp.distributions` instead of `tf.distributions`.\n",
      "WARNING:tensorflow:From /home/philipp/miniconda3/envs/mmvec-gpu-env/lib/python3.6/site-packages/mmvec/multimodal.py:135: Multinomial.__init__ (from tensorflow.python.ops.distributions.multinomial) is deprecated and will be removed after 2019-01-01.\n",
      "Instructions for updating:\n",
      "The TensorFlow Distributions library has moved to TensorFlow Probability (https://github.com/tensorflow/probability). You should update all references to use `tfp.distributions` instead of `tf.distributions`.\n",
      "WARNING:tensorflow:From /home/philipp/miniconda3/envs/mmvec-gpu-env/lib/python3.6/site-packages/mmvec/multimodal.py:183: The name tf.summary.scalar is deprecated. Please use tf.compat.v1.summary.scalar instead.\n",
      "\n",
      "WARNING:tensorflow:From /home/philipp/miniconda3/envs/mmvec-gpu-env/lib/python3.6/site-packages/mmvec/multimodal.py:185: The name tf.summary.histogram is deprecated. Please use tf.compat.v1.summary.histogram instead.\n",
      "\n",
      "WARNING:tensorflow:From /home/philipp/miniconda3/envs/mmvec-gpu-env/lib/python3.6/site-packages/mmvec/multimodal.py:189: The name tf.summary.merge_all is deprecated. Please use tf.compat.v1.summary.merge_all instead.\n",
      "\n",
      "WARNING:tensorflow:From /home/philipp/miniconda3/envs/mmvec-gpu-env/lib/python3.6/site-packages/mmvec/multimodal.py:191: The name tf.summary.FileWriter is deprecated. Please use tf.compat.v1.summary.FileWriter instead.\n",
      "\n",
      "WARNING:tensorflow:From /home/philipp/miniconda3/envs/mmvec-gpu-env/lib/python3.6/site-packages/mmvec/multimodal.py:196: The name tf.train.AdamOptimizer is deprecated. Please use tf.compat.v1.train.AdamOptimizer instead.\n",
      "\n",
      "WARNING:tensorflow:From /home/philipp/miniconda3/envs/mmvec-gpu-env/lib/python3.6/site-packages/tensorflow_core/python/ops/clip_ops.py:301: where (from tensorflow.python.ops.array_ops) is deprecated and will be removed in a future version.\n",
      "Instructions for updating:\n",
      "Use tf.where in 2.0, which has the same broadcast rule as np.where\n",
      "WARNING:tensorflow:From /home/philipp/miniconda3/envs/mmvec-gpu-env/lib/python3.6/site-packages/mmvec/multimodal.py:206: The name tf.global_variables_initializer is deprecated. Please use tf.compat.v1.global_variables_initializer instead.\n",
      "\n",
      "WARNING:tensorflow:From /home/philipp/miniconda3/envs/mmvec-gpu-env/lib/python3.6/site-packages/mmvec/multimodal.py:243: The name tf.train.Saver is deprecated. Please use tf.compat.v1.train.Saver instead.\n",
      "\n"
     ]
    },
    {
     "name": "stderr",
     "output_type": "stream",
     "text": [
      "100%|██████████| 1596/1596 [01:56<00:00, 13.72it/s]\n"
     ]
    }
   ],
   "source": [
    "with tf.Graph().as_default(), tf.Session(config=config) as session:\n",
    "    model = MMvec(\n",
    "        latent_dim=latent_dim,\n",
    "        u_scale=input_prior, v_scale=output_prior,\n",
    "        learning_rate = learning_rate,\n",
    "        beta_1=beta1, beta_2=beta2,\n",
    "        device_name=device_name,\n",
    "        batch_size=batch_size,\n",
    "        clipnorm=clipnorm, save_path=sname)\n",
    "\n",
    "    model(session,\n",
    "          train_microbes_coo, train_metabolites_df.values,\n",
    "          test_microbes_coo, test_metabolites_df.values)\n",
    "\n",
    "    loss, cv = model.fit(epoch=epochs, summary_interval=summary_interval,\n",
    "                         checkpoint_interval=checkpoint_interval)\n",
    "\n",
    "    pc_ids = list(range(latent_dim))\n",
    "    vdim = model.V.shape[0]\n",
    "    V = np.hstack((np.zeros((vdim, 1)), model.V))\n",
    "    V = V.T\n",
    "    Vbias = np.hstack((np.zeros(1), model.Vbias.ravel()))\n",
    "\n",
    "    # Save to an embeddings file\n",
    "    Uparam = format_params(model.U, pc_ids, list(train_microbes_df.columns), 'microbe')\n",
    "    Vparam = format_params(V, pc_ids, list(train_metabolites_df.columns), 'metabolite')\n",
    "    df = pd.concat(\n",
    "        (\n",
    "            Uparam, Vparam,\n",
    "            format_params(model.Ubias, ['bias'], train_microbes_df.columns, 'microbe'),\n",
    "            format_params(Vbias, ['bias'], train_metabolites_df.columns, 'metabolite')\n",
    "        ), axis=0)\n",
    "\n",
    "    df.to_csv(embeddings_file, sep='\\t')\n",
    "\n",
    "    # Save to a ranks file\n",
    "    ranks = pd.DataFrame(model.ranks(), index=train_microbes_df.columns,\n",
    "                         columns=train_metabolites_df.columns)\n",
    "\n",
    "    u, s, v = svds(ranks - ranks.mean(axis=0), k=latent_dim)\n",
    "    ranks = ranks.T\n",
    "    ranks.index.name = 'featureid'\n",
    "    ranks.to_csv(ranks_file, sep='\\t')\n",
    "    # Save to an ordination file\n",
    "    s = s[::-1]\n",
    "    u = u[:, ::-1]\n",
    "    v = v[::-1, :]\n",
    "    if equalize_biplot:\n",
    "        microbe_embed = u @ np.sqrt(np.diag(s))\n",
    "        metabolite_embed = v.T @ np.sqrt(np.diag(s))\n",
    "    else:\n",
    "        microbe_embed = u @ np.diag(s)\n",
    "        metabolite_embed = v.T\n",
    "    pc_ids = ['PC%d' % i for i in range(microbe_embed.shape[1])]\n",
    "    features = pd.DataFrame(\n",
    "        microbe_embed, columns=pc_ids,\n",
    "        index=train_microbes_df.columns)\n",
    "    samples = pd.DataFrame(\n",
    "        metabolite_embed, columns=pc_ids,\n",
    "        index=train_metabolites_df.columns)\n",
    "    short_method_name = 'mmvec biplot'\n",
    "    long_method_name = 'Multiomics mmvec biplot'\n",
    "    eigvals = pd.Series(s, index=pc_ids)\n",
    "    proportion_explained = pd.Series(s**2 / np.sum(s**2), index=pc_ids)\n",
    "    biplot = OrdinationResults(\n",
    "        short_method_name, long_method_name, eigvals,\n",
    "        samples=samples, features=features,\n",
    "        proportion_explained=proportion_explained)\n",
    "    biplot.write(ordination_file)"
   ]
  }
 ],
 "metadata": {
  "kernelspec": {
   "display_name": "Python [conda env:mmvec-gpu-env]",
   "language": "python",
   "name": "conda-env-mmvec-gpu-env-py"
  },
  "language_info": {
   "codemirror_mode": {
    "name": "ipython",
    "version": 3
   },
   "file_extension": ".py",
   "mimetype": "text/x-python",
   "name": "python",
   "nbconvert_exporter": "python",
   "pygments_lexer": "ipython3",
   "version": "3.6.13"
  },
  "toc-showtags": false
 },
 "nbformat": 4,
 "nbformat_minor": 5
}
