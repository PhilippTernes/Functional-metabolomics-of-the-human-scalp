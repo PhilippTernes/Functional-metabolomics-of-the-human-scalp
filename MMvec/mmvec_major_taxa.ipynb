{
 "cells": [
  {
   "cell_type": "code",
   "execution_count": 1,
   "id": "30d6457c-5985-4f7f-a553-74cc6f1d4910",
   "metadata": {
    "tags": []
   },
   "outputs": [
    {
     "name": "stdout",
     "output_type": "stream",
     "text": [
      "TensorFlow version:\n",
      "1.15.0\n",
      "Check if the GPU is recognized by TensorFlow:\n",
      "False\n"
     ]
    }
   ],
   "source": [
    "import pandas as pd\n",
    "import numpy as np\n",
    "import matplotlib.pyplot as plt\n",
    "%matplotlib inline\n",
    "from sklearn.feature_selection import VarianceThreshold\n",
    "import tensorflow as tf\n",
    "print(\"TensorFlow version:\")\n",
    "print(tf.__version__)\n",
    "print(\"Check if the GPU is recognized by TensorFlow:\")\n",
    "print(tf.test.is_gpu_available())"
   ]
  },
  {
   "cell_type": "markdown",
   "id": "c2d4c8a3-e1e3-4c16-8ebf-f4c0f6a6ff1e",
   "metadata": {},
   "source": [
    "# Metabolomics and microbiome datasets\n",
    "\n",
    "## Metabolomics dataset\n",
    "\n",
    "The dataset is on ratio scale. Any missing values will be replaced with one."
   ]
  },
  {
   "cell_type": "code",
   "execution_count": 2,
   "id": "8f250464-d30e-4fb9-8aa8-6a75dcf7814f",
   "metadata": {
    "tags": []
   },
   "outputs": [
    {
     "data": {
      "text/plain": [
       "(1225, 56)"
      ]
     },
     "execution_count": 2,
     "metadata": {},
     "output_type": "execute_result"
    }
   ],
   "source": [
    "filename_metabolites = 'metabolite_data_untargeted_families_baseline_samples.txt'\n",
    "data_metabolites = pd.read_csv(filename_metabolites, sep=\"\\t\", index_col= 'FAMILY_ID').replace(np.nan, 1)\n",
    "data_metabolites.index.names = ['#OTU ID']   # Use the standard MMvec index name\n",
    "data_metabolites.shape"
   ]
  },
  {
   "cell_type": "code",
   "execution_count": 3,
   "id": "0658b6e7-b4e2-468f-85e0-6ed6636eca5b",
   "metadata": {
    "tags": []
   },
   "outputs": [
    {
     "data": {
      "text/html": [
       "<div>\n",
       "<style scoped>\n",
       "    .dataframe tbody tr th:only-of-type {\n",
       "        vertical-align: middle;\n",
       "    }\n",
       "\n",
       "    .dataframe tbody tr th {\n",
       "        vertical-align: top;\n",
       "    }\n",
       "\n",
       "    .dataframe thead th {\n",
       "        text-align: right;\n",
       "    }\n",
       "</style>\n",
       "<table border=\"1\" class=\"dataframe\">\n",
       "  <thead>\n",
       "    <tr style=\"text-align: right;\">\n",
       "      <th></th>\n",
       "      <th>EMR_04_1_JG</th>\n",
       "      <th>EMR_04_10_MD</th>\n",
       "      <th>EMR_04_11_AT</th>\n",
       "      <th>EMR_04_13_KB</th>\n",
       "      <th>EMR_04_15_DB</th>\n",
       "      <th>EMR_04_17_BS</th>\n",
       "      <th>EMR_04_19_BK</th>\n",
       "      <th>EMR_04_20_JP</th>\n",
       "      <th>EMR_04_21_DM</th>\n",
       "      <th>EMR_04_22_RS</th>\n",
       "      <th>...</th>\n",
       "      <th>EMR_04_N-16_PP</th>\n",
       "      <th>EMR_04_N-18_JG</th>\n",
       "      <th>EMR_04_N-19_RC</th>\n",
       "      <th>EMR_04_N-21_AG</th>\n",
       "      <th>EMR_04_N-22_RD</th>\n",
       "      <th>EMR_04_N-29_BP</th>\n",
       "      <th>EMR_04_N-31_JG</th>\n",
       "      <th>EMR_04_N-4_EV</th>\n",
       "      <th>EMR_04_N-5_CA</th>\n",
       "      <th>EMR_04_N-8_PC</th>\n",
       "    </tr>\n",
       "    <tr>\n",
       "      <th>#OTU ID</th>\n",
       "      <th></th>\n",
       "      <th></th>\n",
       "      <th></th>\n",
       "      <th></th>\n",
       "      <th></th>\n",
       "      <th></th>\n",
       "      <th></th>\n",
       "      <th></th>\n",
       "      <th></th>\n",
       "      <th></th>\n",
       "      <th></th>\n",
       "      <th></th>\n",
       "      <th></th>\n",
       "      <th></th>\n",
       "      <th></th>\n",
       "      <th></th>\n",
       "      <th></th>\n",
       "      <th></th>\n",
       "      <th></th>\n",
       "      <th></th>\n",
       "      <th></th>\n",
       "    </tr>\n",
       "  </thead>\n",
       "  <tbody>\n",
       "    <tr>\n",
       "      <th>X940001</th>\n",
       "      <td>1.917066</td>\n",
       "      <td>1.097793</td>\n",
       "      <td>1.102515</td>\n",
       "      <td>1.492751</td>\n",
       "      <td>0.949165</td>\n",
       "      <td>0.658015</td>\n",
       "      <td>1.039717</td>\n",
       "      <td>1.248009</td>\n",
       "      <td>1.311771</td>\n",
       "      <td>1.077183</td>\n",
       "      <td>...</td>\n",
       "      <td>1.145810</td>\n",
       "      <td>1.086979</td>\n",
       "      <td>1.554093</td>\n",
       "      <td>1.347086</td>\n",
       "      <td>1.506364</td>\n",
       "      <td>1.155302</td>\n",
       "      <td>1.206615</td>\n",
       "      <td>0.743653</td>\n",
       "      <td>1.174041</td>\n",
       "      <td>1.349065</td>\n",
       "    </tr>\n",
       "    <tr>\n",
       "      <th>X940002</th>\n",
       "      <td>0.937738</td>\n",
       "      <td>1.105094</td>\n",
       "      <td>0.721868</td>\n",
       "      <td>1.301356</td>\n",
       "      <td>0.808781</td>\n",
       "      <td>1.422914</td>\n",
       "      <td>1.331156</td>\n",
       "      <td>1.388068</td>\n",
       "      <td>1.215894</td>\n",
       "      <td>1.232049</td>\n",
       "      <td>...</td>\n",
       "      <td>0.995496</td>\n",
       "      <td>1.040750</td>\n",
       "      <td>0.993713</td>\n",
       "      <td>1.084026</td>\n",
       "      <td>0.535335</td>\n",
       "      <td>0.620074</td>\n",
       "      <td>1.172014</td>\n",
       "      <td>1.050518</td>\n",
       "      <td>1.183928</td>\n",
       "      <td>1.124060</td>\n",
       "    </tr>\n",
       "    <tr>\n",
       "      <th>X940005</th>\n",
       "      <td>0.632835</td>\n",
       "      <td>1.223279</td>\n",
       "      <td>0.547940</td>\n",
       "      <td>0.616814</td>\n",
       "      <td>0.525264</td>\n",
       "      <td>0.959493</td>\n",
       "      <td>2.002433</td>\n",
       "      <td>1.084656</td>\n",
       "      <td>0.933708</td>\n",
       "      <td>1.104386</td>\n",
       "      <td>...</td>\n",
       "      <td>0.572647</td>\n",
       "      <td>1.197824</td>\n",
       "      <td>1.390256</td>\n",
       "      <td>1.071936</td>\n",
       "      <td>1.238504</td>\n",
       "      <td>1.008577</td>\n",
       "      <td>0.941165</td>\n",
       "      <td>0.873972</td>\n",
       "      <td>1.113174</td>\n",
       "      <td>1.055592</td>\n",
       "    </tr>\n",
       "    <tr>\n",
       "      <th>X940007</th>\n",
       "      <td>1.563082</td>\n",
       "      <td>0.679953</td>\n",
       "      <td>1.444796</td>\n",
       "      <td>1.953196</td>\n",
       "      <td>1.700636</td>\n",
       "      <td>1.860522</td>\n",
       "      <td>1.980057</td>\n",
       "      <td>2.443831</td>\n",
       "      <td>1.066134</td>\n",
       "      <td>2.120190</td>\n",
       "      <td>...</td>\n",
       "      <td>1.775266</td>\n",
       "      <td>0.911157</td>\n",
       "      <td>1.236485</td>\n",
       "      <td>0.800783</td>\n",
       "      <td>1.061433</td>\n",
       "      <td>1.500792</td>\n",
       "      <td>1.064874</td>\n",
       "      <td>2.132671</td>\n",
       "      <td>1.168662</td>\n",
       "      <td>1.533733</td>\n",
       "    </tr>\n",
       "    <tr>\n",
       "      <th>X940010</th>\n",
       "      <td>0.688643</td>\n",
       "      <td>0.492065</td>\n",
       "      <td>6.018816</td>\n",
       "      <td>1.734043</td>\n",
       "      <td>3.759450</td>\n",
       "      <td>1.384322</td>\n",
       "      <td>0.378216</td>\n",
       "      <td>1.061845</td>\n",
       "      <td>4.077086</td>\n",
       "      <td>0.702574</td>\n",
       "      <td>...</td>\n",
       "      <td>0.370022</td>\n",
       "      <td>0.827221</td>\n",
       "      <td>0.711317</td>\n",
       "      <td>0.966257</td>\n",
       "      <td>1.264027</td>\n",
       "      <td>2.173998</td>\n",
       "      <td>0.815656</td>\n",
       "      <td>0.941501</td>\n",
       "      <td>0.300463</td>\n",
       "      <td>0.992282</td>\n",
       "    </tr>\n",
       "  </tbody>\n",
       "</table>\n",
       "<p>5 rows × 56 columns</p>\n",
       "</div>"
      ],
      "text/plain": [
       "         EMR_04_1_JG  EMR_04_10_MD  EMR_04_11_AT  EMR_04_13_KB  EMR_04_15_DB  \\\n",
       "#OTU ID                                                                        \n",
       "X940001     1.917066      1.097793      1.102515      1.492751      0.949165   \n",
       "X940002     0.937738      1.105094      0.721868      1.301356      0.808781   \n",
       "X940005     0.632835      1.223279      0.547940      0.616814      0.525264   \n",
       "X940007     1.563082      0.679953      1.444796      1.953196      1.700636   \n",
       "X940010     0.688643      0.492065      6.018816      1.734043      3.759450   \n",
       "\n",
       "         EMR_04_17_BS  EMR_04_19_BK  EMR_04_20_JP  EMR_04_21_DM  EMR_04_22_RS  \\\n",
       "#OTU ID                                                                         \n",
       "X940001      0.658015      1.039717      1.248009      1.311771      1.077183   \n",
       "X940002      1.422914      1.331156      1.388068      1.215894      1.232049   \n",
       "X940005      0.959493      2.002433      1.084656      0.933708      1.104386   \n",
       "X940007      1.860522      1.980057      2.443831      1.066134      2.120190   \n",
       "X940010      1.384322      0.378216      1.061845      4.077086      0.702574   \n",
       "\n",
       "         ...  EMR_04_N-16_PP  EMR_04_N-18_JG  EMR_04_N-19_RC  EMR_04_N-21_AG  \\\n",
       "#OTU ID  ...                                                                   \n",
       "X940001  ...        1.145810        1.086979        1.554093        1.347086   \n",
       "X940002  ...        0.995496        1.040750        0.993713        1.084026   \n",
       "X940005  ...        0.572647        1.197824        1.390256        1.071936   \n",
       "X940007  ...        1.775266        0.911157        1.236485        0.800783   \n",
       "X940010  ...        0.370022        0.827221        0.711317        0.966257   \n",
       "\n",
       "         EMR_04_N-22_RD  EMR_04_N-29_BP  EMR_04_N-31_JG  EMR_04_N-4_EV  \\\n",
       "#OTU ID                                                                  \n",
       "X940001        1.506364        1.155302        1.206615       0.743653   \n",
       "X940002        0.535335        0.620074        1.172014       1.050518   \n",
       "X940005        1.238504        1.008577        0.941165       0.873972   \n",
       "X940007        1.061433        1.500792        1.064874       2.132671   \n",
       "X940010        1.264027        2.173998        0.815656       0.941501   \n",
       "\n",
       "         EMR_04_N-5_CA  EMR_04_N-8_PC  \n",
       "#OTU ID                                \n",
       "X940001       1.174041       1.349065  \n",
       "X940002       1.183928       1.124060  \n",
       "X940005       1.113174       1.055592  \n",
       "X940007       1.168662       1.533733  \n",
       "X940010       0.300463       0.992282  \n",
       "\n",
       "[5 rows x 56 columns]"
      ]
     },
     "execution_count": 3,
     "metadata": {},
     "output_type": "execute_result"
    }
   ],
   "source": [
    "data_metabolites.head()"
   ]
  },
  {
   "cell_type": "markdown",
   "id": "43a3b34f-4e7a-4c1d-a25e-a630c8f21588",
   "metadata": {},
   "source": [
    "Scale the dataset so that the sum of all features in each sample is 1. This is needed because MMvec expects compositional data for both microbes and metabolites:"
   ]
  },
  {
   "cell_type": "code",
   "execution_count": 4,
   "id": "8e5c993b-910b-4767-8315-36324a410fd5",
   "metadata": {
    "tags": []
   },
   "outputs": [
    {
     "data": {
      "text/plain": [
       "EMR_04_1_JG     1225000.0\n",
       "EMR_04_10_MD    1225000.0\n",
       "EMR_04_11_AT    1225000.0\n",
       "EMR_04_13_KB    1225000.0\n",
       "EMR_04_15_DB    1225000.0\n",
       "dtype: float64"
      ]
     },
     "execution_count": 4,
     "metadata": {},
     "output_type": "execute_result"
    }
   ],
   "source": [
    "data_metabolites = data_metabolites * data_metabolites.shape[0] * 1000 / data_metabolites.sum(axis=0)\n",
    "#data_metabolites = data_metabolites * data_metabolites.shape[0] * data_metabolites.shape[1] * 1000  / data_metabolites.sum().sum()\n",
    "data_metabolites.sum(axis=0).head()"
   ]
  },
  {
   "cell_type": "markdown",
   "id": "25c6cdbd-45b9-4fb7-bc54-ad86402a0d97",
   "metadata": {
    "tags": []
   },
   "source": [
    "## Microbiome dataset"
   ]
  },
  {
   "cell_type": "code",
   "execution_count": 5,
   "id": "f1c7216b-2a59-459f-96af-0abab0b7ab09",
   "metadata": {
    "tags": []
   },
   "outputs": [
    {
     "data": {
      "text/plain": [
       "(12, 55)"
      ]
     },
     "execution_count": 5,
     "metadata": {},
     "output_type": "execute_result"
    }
   ],
   "source": [
    "filename_microbiome = 'data_major_taxa_wide.tsv'\n",
    "data_microbiome = pd.read_csv(filename_microbiome, sep=\"\\t\", index_col='Major_Taxa')\n",
    "data_microbiome.index.names = ['#OTU ID']   # Use the standard MMvec index name\n",
    "data_microbiome.shape"
   ]
  },
  {
   "cell_type": "code",
   "execution_count": 6,
   "id": "474fe609-17e0-4254-82bc-c5fcad72fc89",
   "metadata": {
    "tags": []
   },
   "outputs": [
    {
     "data": {
      "text/html": [
       "<div>\n",
       "<style scoped>\n",
       "    .dataframe tbody tr th:only-of-type {\n",
       "        vertical-align: middle;\n",
       "    }\n",
       "\n",
       "    .dataframe tbody tr th {\n",
       "        vertical-align: top;\n",
       "    }\n",
       "\n",
       "    .dataframe thead th {\n",
       "        text-align: right;\n",
       "    }\n",
       "</style>\n",
       "<table border=\"1\" class=\"dataframe\">\n",
       "  <thead>\n",
       "    <tr style=\"text-align: right;\">\n",
       "      <th></th>\n",
       "      <th>EMR_04_10_MD</th>\n",
       "      <th>EMR_04_11_AT</th>\n",
       "      <th>EMR_04_13_KB</th>\n",
       "      <th>EMR_04_15_DB</th>\n",
       "      <th>EMR_04_17_BS</th>\n",
       "      <th>EMR_04_19_BK</th>\n",
       "      <th>EMR_04_1_JG</th>\n",
       "      <th>EMR_04_20_JP</th>\n",
       "      <th>EMR_04_21_DM</th>\n",
       "      <th>EMR_04_22_RS</th>\n",
       "      <th>...</th>\n",
       "      <th>EMR_04_N-13_LB</th>\n",
       "      <th>EMR_04_N-16_PP</th>\n",
       "      <th>EMR_04_N-18_JG</th>\n",
       "      <th>EMR_04_N-19_RC</th>\n",
       "      <th>EMR_04_N-21_AG</th>\n",
       "      <th>EMR_04_N-29_BP</th>\n",
       "      <th>EMR_04_N-31_JG</th>\n",
       "      <th>EMR_04_N-4_EV</th>\n",
       "      <th>EMR_04_N-5_CA</th>\n",
       "      <th>EMR_04_N-8_PC</th>\n",
       "    </tr>\n",
       "    <tr>\n",
       "      <th>#OTU ID</th>\n",
       "      <th></th>\n",
       "      <th></th>\n",
       "      <th></th>\n",
       "      <th></th>\n",
       "      <th></th>\n",
       "      <th></th>\n",
       "      <th></th>\n",
       "      <th></th>\n",
       "      <th></th>\n",
       "      <th></th>\n",
       "      <th></th>\n",
       "      <th></th>\n",
       "      <th></th>\n",
       "      <th></th>\n",
       "      <th></th>\n",
       "      <th></th>\n",
       "      <th></th>\n",
       "      <th></th>\n",
       "      <th></th>\n",
       "      <th></th>\n",
       "      <th></th>\n",
       "    </tr>\n",
       "  </thead>\n",
       "  <tbody>\n",
       "    <tr>\n",
       "      <th>Propionibacteriaceae</th>\n",
       "      <td>0.331976</td>\n",
       "      <td>0.657020</td>\n",
       "      <td>0.541306</td>\n",
       "      <td>0.888762</td>\n",
       "      <td>0.953391</td>\n",
       "      <td>0.930800</td>\n",
       "      <td>0.714580</td>\n",
       "      <td>0.856592</td>\n",
       "      <td>0.942964</td>\n",
       "      <td>0.561774</td>\n",
       "      <td>...</td>\n",
       "      <td>0.202921</td>\n",
       "      <td>0.197956</td>\n",
       "      <td>0.869960</td>\n",
       "      <td>0.447994</td>\n",
       "      <td>0.765815</td>\n",
       "      <td>0.896541</td>\n",
       "      <td>0.515592</td>\n",
       "      <td>0.945658</td>\n",
       "      <td>0.738912</td>\n",
       "      <td>0.996317</td>\n",
       "    </tr>\n",
       "    <tr>\n",
       "      <th>Staphylococcus caprae or capitis</th>\n",
       "      <td>0.528719</td>\n",
       "      <td>0.328076</td>\n",
       "      <td>0.211843</td>\n",
       "      <td>0.102730</td>\n",
       "      <td>0.045306</td>\n",
       "      <td>0.000715</td>\n",
       "      <td>0.244449</td>\n",
       "      <td>0.070328</td>\n",
       "      <td>0.045738</td>\n",
       "      <td>0.000607</td>\n",
       "      <td>...</td>\n",
       "      <td>0.464085</td>\n",
       "      <td>0.753332</td>\n",
       "      <td>0.118889</td>\n",
       "      <td>0.413922</td>\n",
       "      <td>0.233364</td>\n",
       "      <td>0.099594</td>\n",
       "      <td>0.376712</td>\n",
       "      <td>0.052873</td>\n",
       "      <td>0.051024</td>\n",
       "      <td>0.000445</td>\n",
       "    </tr>\n",
       "    <tr>\n",
       "      <th>Staphylococcus epidermidis</th>\n",
       "      <td>0.138977</td>\n",
       "      <td>0.000156</td>\n",
       "      <td>0.210044</td>\n",
       "      <td>0.005542</td>\n",
       "      <td>0.001055</td>\n",
       "      <td>0.061369</td>\n",
       "      <td>0.001059</td>\n",
       "      <td>0.070554</td>\n",
       "      <td>0.000726</td>\n",
       "      <td>0.005348</td>\n",
       "      <td>...</td>\n",
       "      <td>0.329984</td>\n",
       "      <td>0.005508</td>\n",
       "      <td>0.001291</td>\n",
       "      <td>0.083301</td>\n",
       "      <td>0.000482</td>\n",
       "      <td>0.001780</td>\n",
       "      <td>0.097044</td>\n",
       "      <td>0.000175</td>\n",
       "      <td>0.036734</td>\n",
       "      <td>0.000000</td>\n",
       "    </tr>\n",
       "    <tr>\n",
       "      <th>Staphylococcus hominis</th>\n",
       "      <td>0.000174</td>\n",
       "      <td>0.000000</td>\n",
       "      <td>0.000761</td>\n",
       "      <td>0.000102</td>\n",
       "      <td>0.000049</td>\n",
       "      <td>0.002958</td>\n",
       "      <td>0.000142</td>\n",
       "      <td>0.001208</td>\n",
       "      <td>0.000022</td>\n",
       "      <td>0.424945</td>\n",
       "      <td>...</td>\n",
       "      <td>0.000000</td>\n",
       "      <td>0.001429</td>\n",
       "      <td>0.003521</td>\n",
       "      <td>0.002070</td>\n",
       "      <td>0.000045</td>\n",
       "      <td>0.000000</td>\n",
       "      <td>0.000132</td>\n",
       "      <td>0.000003</td>\n",
       "      <td>0.002306</td>\n",
       "      <td>0.003211</td>\n",
       "    </tr>\n",
       "    <tr>\n",
       "      <th>Other Staphylococci</th>\n",
       "      <td>0.000000</td>\n",
       "      <td>0.000000</td>\n",
       "      <td>0.000008</td>\n",
       "      <td>0.000234</td>\n",
       "      <td>0.000000</td>\n",
       "      <td>0.000448</td>\n",
       "      <td>0.000000</td>\n",
       "      <td>0.000000</td>\n",
       "      <td>0.000028</td>\n",
       "      <td>0.000939</td>\n",
       "      <td>...</td>\n",
       "      <td>0.000081</td>\n",
       "      <td>0.000155</td>\n",
       "      <td>0.001662</td>\n",
       "      <td>0.000000</td>\n",
       "      <td>0.000055</td>\n",
       "      <td>0.000000</td>\n",
       "      <td>0.000230</td>\n",
       "      <td>0.000010</td>\n",
       "      <td>0.016130</td>\n",
       "      <td>0.000000</td>\n",
       "    </tr>\n",
       "  </tbody>\n",
       "</table>\n",
       "<p>5 rows × 55 columns</p>\n",
       "</div>"
      ],
      "text/plain": [
       "                                  EMR_04_10_MD  EMR_04_11_AT  EMR_04_13_KB  \\\n",
       "#OTU ID                                                                      \n",
       "Propionibacteriaceae                  0.331976      0.657020      0.541306   \n",
       "Staphylococcus caprae or capitis      0.528719      0.328076      0.211843   \n",
       "Staphylococcus epidermidis            0.138977      0.000156      0.210044   \n",
       "Staphylococcus hominis                0.000174      0.000000      0.000761   \n",
       "Other Staphylococci                   0.000000      0.000000      0.000008   \n",
       "\n",
       "                                  EMR_04_15_DB  EMR_04_17_BS  EMR_04_19_BK  \\\n",
       "#OTU ID                                                                      \n",
       "Propionibacteriaceae                  0.888762      0.953391      0.930800   \n",
       "Staphylococcus caprae or capitis      0.102730      0.045306      0.000715   \n",
       "Staphylococcus epidermidis            0.005542      0.001055      0.061369   \n",
       "Staphylococcus hominis                0.000102      0.000049      0.002958   \n",
       "Other Staphylococci                   0.000234      0.000000      0.000448   \n",
       "\n",
       "                                  EMR_04_1_JG  EMR_04_20_JP  EMR_04_21_DM  \\\n",
       "#OTU ID                                                                     \n",
       "Propionibacteriaceae                 0.714580      0.856592      0.942964   \n",
       "Staphylococcus caprae or capitis     0.244449      0.070328      0.045738   \n",
       "Staphylococcus epidermidis           0.001059      0.070554      0.000726   \n",
       "Staphylococcus hominis               0.000142      0.001208      0.000022   \n",
       "Other Staphylococci                  0.000000      0.000000      0.000028   \n",
       "\n",
       "                                  EMR_04_22_RS  ...  EMR_04_N-13_LB  \\\n",
       "#OTU ID                                         ...                   \n",
       "Propionibacteriaceae                  0.561774  ...        0.202921   \n",
       "Staphylococcus caprae or capitis      0.000607  ...        0.464085   \n",
       "Staphylococcus epidermidis            0.005348  ...        0.329984   \n",
       "Staphylococcus hominis                0.424945  ...        0.000000   \n",
       "Other Staphylococci                   0.000939  ...        0.000081   \n",
       "\n",
       "                                  EMR_04_N-16_PP  EMR_04_N-18_JG  \\\n",
       "#OTU ID                                                            \n",
       "Propionibacteriaceae                    0.197956        0.869960   \n",
       "Staphylococcus caprae or capitis        0.753332        0.118889   \n",
       "Staphylococcus epidermidis              0.005508        0.001291   \n",
       "Staphylococcus hominis                  0.001429        0.003521   \n",
       "Other Staphylococci                     0.000155        0.001662   \n",
       "\n",
       "                                  EMR_04_N-19_RC  EMR_04_N-21_AG  \\\n",
       "#OTU ID                                                            \n",
       "Propionibacteriaceae                    0.447994        0.765815   \n",
       "Staphylococcus caprae or capitis        0.413922        0.233364   \n",
       "Staphylococcus epidermidis              0.083301        0.000482   \n",
       "Staphylococcus hominis                  0.002070        0.000045   \n",
       "Other Staphylococci                     0.000000        0.000055   \n",
       "\n",
       "                                  EMR_04_N-29_BP  EMR_04_N-31_JG  \\\n",
       "#OTU ID                                                            \n",
       "Propionibacteriaceae                    0.896541        0.515592   \n",
       "Staphylococcus caprae or capitis        0.099594        0.376712   \n",
       "Staphylococcus epidermidis              0.001780        0.097044   \n",
       "Staphylococcus hominis                  0.000000        0.000132   \n",
       "Other Staphylococci                     0.000000        0.000230   \n",
       "\n",
       "                                  EMR_04_N-4_EV  EMR_04_N-5_CA  EMR_04_N-8_PC  \n",
       "#OTU ID                                                                        \n",
       "Propionibacteriaceae                   0.945658       0.738912       0.996317  \n",
       "Staphylococcus caprae or capitis       0.052873       0.051024       0.000445  \n",
       "Staphylococcus epidermidis             0.000175       0.036734       0.000000  \n",
       "Staphylococcus hominis                 0.000003       0.002306       0.003211  \n",
       "Other Staphylococci                    0.000010       0.016130       0.000000  \n",
       "\n",
       "[5 rows x 55 columns]"
      ]
     },
     "execution_count": 6,
     "metadata": {},
     "output_type": "execute_result"
    }
   ],
   "source": [
    "data_microbiome.head()"
   ]
  },
  {
   "cell_type": "markdown",
   "id": "d31cb3d7-c128-4b51-824c-830d490aba3c",
   "metadata": {},
   "source": [
    "Check if the microbiome dataset is scaled properly:"
   ]
  },
  {
   "cell_type": "code",
   "execution_count": 7,
   "id": "5a38d2a9-9713-44ae-ad86-cedf5ccb0b9d",
   "metadata": {
    "tags": []
   },
   "outputs": [
    {
     "data": {
      "text/plain": [
       "EMR_04_10_MD    12000.0\n",
       "EMR_04_11_AT    12000.0\n",
       "EMR_04_13_KB    12000.0\n",
       "EMR_04_15_DB    12000.0\n",
       "EMR_04_17_BS    12000.0\n",
       "dtype: float64"
      ]
     },
     "execution_count": 7,
     "metadata": {},
     "output_type": "execute_result"
    }
   ],
   "source": [
    "data_microbiome = data_microbiome * data_microbiome.shape[0] * 1000  / data_microbiome.sum(axis=0)\n",
    "data_microbiome.sum(axis=0).head()"
   ]
  },
  {
   "cell_type": "markdown",
   "id": "e1e246ac-6de5-445d-9cef-4eaf1b1fe086",
   "metadata": {},
   "source": [
    "## Data consistency\n",
    "\n",
    "Check whether both dataset have the same sets of columns:"
   ]
  },
  {
   "cell_type": "code",
   "execution_count": 8,
   "id": "4ff40363-9423-49b9-a3d4-8d17ca23da90",
   "metadata": {
    "tags": []
   },
   "outputs": [
    {
     "data": {
      "text/plain": [
       "{'EMR_04_N-22_RD'}"
      ]
     },
     "execution_count": 8,
     "metadata": {},
     "output_type": "execute_result"
    }
   ],
   "source": [
    "set(data_microbiome.columns) ^ set(data_metabolites.columns)"
   ]
  },
  {
   "cell_type": "markdown",
   "id": "6de5b4d8-398c-4941-87f8-e1f5d3705fa8",
   "metadata": {},
   "source": [
    "Sample 'EMR_04_N-22_RD' is missing in the microbiome dataset. Remove it also from the metabolites dataset:"
   ]
  },
  {
   "cell_type": "code",
   "execution_count": 9,
   "id": "fd613869-6c28-4da6-a9fb-72d931cade26",
   "metadata": {
    "tags": []
   },
   "outputs": [
    {
     "data": {
      "text/plain": [
       "(1225, 55)"
      ]
     },
     "execution_count": 9,
     "metadata": {},
     "output_type": "execute_result"
    }
   ],
   "source": [
    "data_metabolites = data_metabolites.drop('EMR_04_N-22_RD', axis=1)\n",
    "data_metabolites.shape"
   ]
  },
  {
   "cell_type": "code",
   "execution_count": 10,
   "id": "3c44a96c-9207-451c-a54a-e17274e6e3ec",
   "metadata": {
    "tags": []
   },
   "outputs": [
    {
     "data": {
      "text/plain": [
       "set()"
      ]
     },
     "execution_count": 10,
     "metadata": {},
     "output_type": "execute_result"
    }
   ],
   "source": [
    "set(data_microbiome.columns) ^ set(data_metabolites.columns)"
   ]
  },
  {
   "cell_type": "markdown",
   "id": "d8019858-5f30-44ba-8849-2a008de4534d",
   "metadata": {},
   "source": [
    "## Biom format"
   ]
  },
  {
   "cell_type": "code",
   "execution_count": 11,
   "id": "ef241aa8-c0d2-405e-ad73-a938a90ab22d",
   "metadata": {
    "tags": []
   },
   "outputs": [
    {
     "name": "stdout",
     "output_type": "stream",
     "text": [
      "metabolite_data_untargeted_families_baseline_samples_prepared.txt\n",
      "data_major_taxa_wide_prepared.txt\n"
     ]
    }
   ],
   "source": [
    "data_metabolites.to_csv(filename_metabolites[:-4]+'_prepared.txt', sep = '\\t')\n",
    "data_microbiome.to_csv(filename_microbiome[:-4]+'_prepared.txt', sep = '\\t')\n",
    "print(filename_metabolites[:-4]+'_prepared.txt')\n",
    "print(filename_microbiome[:-4]+'_prepared.txt')"
   ]
  },
  {
   "cell_type": "code",
   "execution_count": 12,
   "id": "b8b9422e-4354-4e55-802d-15ea24cb165d",
   "metadata": {
    "tags": []
   },
   "outputs": [],
   "source": [
    "!biom convert -i metabolite_data_untargeted_families_baseline_samples_prepared.txt \\\n",
    "    -o metabolite_data_untargeted_families_baseline_samples_prepared.biom \\\n",
    "    --to-hdf5 --table-type='Metabolite table'\n",
    "\n",
    "!biom convert -i data_major_taxa_wide_prepared.txt \\\n",
    "    -o data_major_taxa_wide_prepared.biom \\\n",
    "    --to-hdf5 --table-type='OTU table'"
   ]
  },
  {
   "cell_type": "markdown",
   "id": "f0b01740-2980-4c46-ad5e-ef952fb47440",
   "metadata": {
    "tags": []
   },
   "source": [
    "## MMvec\n",
    "\n",
    "Check progress on Tensorboard: Open a new shell, move to the MMvec summary-dir, run \"tensorboard --logdir .\", and open http://localhost:6006/ in a browser.\n",
    "\n",
    "Guidelines for optimizing model parameters:\n",
    "\n",
    "* https://github.com/biocore/mmvec#faqs\n",
    "* https://saturncloud.io/blog/understanding-tensorflow-batch-size-in-input-placeholder/"
   ]
  },
  {
   "cell_type": "code",
   "execution_count": 13,
   "id": "7db83660-c979-48d0-b6f5-6f1d4a80ea8a",
   "metadata": {
    "tags": []
   },
   "outputs": [
    {
     "name": "stdout",
     "output_type": "stream",
     "text": [
      "/home/philipp/miniconda3/envs/mmvec-env/lib/python3.6/site-packages/skbio/util/_testing.py:16: FutureWarning: pandas.util.testing is deprecated. Use the functions in the public API at pandas.testing instead.\n",
      "  import pandas.util.testing as pdt\n",
      "OMP: Info #155: KMP_AFFINITY: Initial OS proc set respected: 0\n",
      "OMP: Info #217: KMP_AFFINITY: decoding x2APIC ids.\n",
      "OMP: Info #217: KMP_AFFINITY: cpuid leaf 11 not supported.\n",
      "OMP: Info #217: KMP_AFFINITY: decoding legacy APIC ids.\n",
      "OMP: Info #157: KMP_AFFINITY: 1 available OS procs\n",
      "OMP: Info #158: KMP_AFFINITY: Uniform topology\n",
      "OMP: Info #288: KMP_AFFINITY: topology layer \"LL cache\" is equivalent to \"socket\".\n",
      "OMP: Info #192: KMP_AFFINITY: 1 socket x 1 core/socket x 1 thread/core (1 total cores)\n",
      "OMP: Info #219: KMP_AFFINITY: OS proc to physical thread map:\n",
      "OMP: Info #172: KMP_AFFINITY: OS proc 0 maps to socket 0 core 0 thread 0 \n",
      "OMP: Info #255: KMP_AFFINITY: pid 3834 tid 3834 thread 0 bound to OS proc set 0\n",
      "WARNING:tensorflow:From /home/philipp/miniconda3/envs/mmvec-env/bin/mmvec:160: The name tf.ConfigProto is deprecated. Please use tf.compat.v1.ConfigProto instead.\n",
      "\n",
      "WARNING:tensorflow:From /home/philipp/miniconda3/envs/mmvec-env/bin/mmvec:161: The name tf.Session is deprecated. Please use tf.compat.v1.Session instead.\n",
      "\n",
      "2023-08-13 18:49:53.827808: I tensorflow/core/platform/cpu_feature_guard.cc:145] This TensorFlow binary is optimized with Intel(R) MKL-DNN to use the following CPU instructions in performance critical operations:  SSE4.1 SSE4.2 AVX AVX2 FMA\n",
      "To enable them in non-MKL-DNN operations, rebuild TensorFlow with the appropriate compiler flags.\n",
      "2023-08-13 18:49:53.830741: I tensorflow/core/platform/profile_utils/cpu_utils.cc:94] CPU Frequency: 1996170000 Hz\n",
      "2023-08-13 18:49:53.830931: I tensorflow/compiler/xla/service/service.cc:168] XLA service 0x563be207fb50 initialized for platform Host (this does not guarantee that XLA will be used). Devices:\n",
      "2023-08-13 18:49:53.830958: I tensorflow/compiler/xla/service/service.cc:176]   StreamExecutor device (0): Host, Default Version\n",
      "2023-08-13 18:49:53.831647: I tensorflow/core/common_runtime/process_util.cc:115] Creating new thread pool with default inter op setting: 2. Tune using inter_op_parallelism_threads for best performance.\n",
      "WARNING:tensorflow:From /home/philipp/miniconda3/envs/mmvec-env/lib/python3.6/site-packages/mmvec/multimodal.py:90: The name tf.log is deprecated. Please use tf.math.log instead.\n",
      "\n",
      "WARNING:tensorflow:From /home/philipp/miniconda3/envs/mmvec-env/lib/python3.6/site-packages/mmvec/multimodal.py:91: multinomial (from tensorflow.python.ops.random_ops) is deprecated and will be removed in a future version.\n",
      "Instructions for updating:\n",
      "Use `tf.random.categorical` instead.\n",
      "WARNING:tensorflow:From /home/philipp/miniconda3/envs/mmvec-env/lib/python3.6/site-packages/mmvec/multimodal.py:102: The name tf.random_normal is deprecated. Please use tf.random.normal instead.\n",
      "\n",
      "WARNING:tensorflow:From /home/philipp/miniconda3/envs/mmvec-env/lib/python3.6/site-packages/mmvec/multimodal.py:118: Normal.__init__ (from tensorflow.python.ops.distributions.normal) is deprecated and will be removed after 2019-01-01.\n",
      "Instructions for updating:\n",
      "The TensorFlow Distributions library has moved to TensorFlow Probability (https://github.com/tensorflow/probability). You should update all references to use `tfp.distributions` instead of `tf.distributions`.\n",
      "WARNING:tensorflow:From /home/philipp/miniconda3/envs/mmvec-env/lib/python3.6/site-packages/tensorflow_core/python/ops/distributions/normal.py:160: Distribution.__init__ (from tensorflow.python.ops.distributions.distribution) is deprecated and will be removed after 2019-01-01.\n",
      "Instructions for updating:\n",
      "The TensorFlow Distributions library has moved to TensorFlow Probability (https://github.com/tensorflow/probability). You should update all references to use `tfp.distributions` instead of `tf.distributions`.\n",
      "WARNING:tensorflow:From /home/philipp/miniconda3/envs/mmvec-env/lib/python3.6/site-packages/mmvec/multimodal.py:135: Multinomial.__init__ (from tensorflow.python.ops.distributions.multinomial) is deprecated and will be removed after 2019-01-01.\n",
      "Instructions for updating:\n",
      "The TensorFlow Distributions library has moved to TensorFlow Probability (https://github.com/tensorflow/probability). You should update all references to use `tfp.distributions` instead of `tf.distributions`.\n",
      "WARNING:tensorflow:From /home/philipp/miniconda3/envs/mmvec-env/lib/python3.6/site-packages/mmvec/multimodal.py:183: The name tf.summary.scalar is deprecated. Please use tf.compat.v1.summary.scalar instead.\n",
      "\n",
      "WARNING:tensorflow:From /home/philipp/miniconda3/envs/mmvec-env/lib/python3.6/site-packages/mmvec/multimodal.py:185: The name tf.summary.histogram is deprecated. Please use tf.compat.v1.summary.histogram instead.\n",
      "\n",
      "WARNING:tensorflow:From /home/philipp/miniconda3/envs/mmvec-env/lib/python3.6/site-packages/mmvec/multimodal.py:189: The name tf.summary.merge_all is deprecated. Please use tf.compat.v1.summary.merge_all instead.\n",
      "\n",
      "WARNING:tensorflow:From /home/philipp/miniconda3/envs/mmvec-env/lib/python3.6/site-packages/mmvec/multimodal.py:191: The name tf.summary.FileWriter is deprecated. Please use tf.compat.v1.summary.FileWriter instead.\n",
      "\n",
      "WARNING:tensorflow:From /home/philipp/miniconda3/envs/mmvec-env/lib/python3.6/site-packages/mmvec/multimodal.py:196: The name tf.train.AdamOptimizer is deprecated. Please use tf.compat.v1.train.AdamOptimizer instead.\n",
      "\n",
      "WARNING:tensorflow:From /home/philipp/miniconda3/envs/mmvec-env/lib/python3.6/site-packages/tensorflow_core/python/ops/clip_ops.py:301: where (from tensorflow.python.ops.array_ops) is deprecated and will be removed in a future version.\n",
      "Instructions for updating:\n",
      "Use tf.where in 2.0, which has the same broadcast rule as np.where\n",
      "WARNING:tensorflow:From /home/philipp/miniconda3/envs/mmvec-env/lib/python3.6/site-packages/mmvec/multimodal.py:206: The name tf.global_variables_initializer is deprecated. Please use tf.compat.v1.global_variables_initializer instead.\n",
      "\n",
      "WARNING:tensorflow:From /home/philipp/miniconda3/envs/mmvec-env/lib/python3.6/site-packages/mmvec/multimodal.py:243: The name tf.train.Saver is deprecated. Please use tf.compat.v1.train.Saver instead.\n",
      "\n",
      "  0%|                                                  | 0/8475 [00:00<?, ?it/s]OMP: Info #255: KMP_AFFINITY: pid 3834 tid 3846 thread 1 bound to OS proc set 0\n",
      "OMP: Info #255: KMP_AFFINITY: pid 3834 tid 3845 thread 2 bound to OS proc set 0\n",
      "100%|███████████████████████████████████████| 8475/8475 [16:36<00:00,  8.50it/s]\n"
     ]
    }
   ],
   "source": [
    "!mmvec paired-omics \\\n",
    "        --microbe-file data_major_taxa_wide_prepared.biom \\\n",
    "        --metabolite-file metabolite_data_untargeted_families_baseline_samples_prepared.biom \\\n",
    "        --min-feature-count 1 --num-testing-examples 15\\\n",
    "        --summary-interval 1 --learning-rate 0.001 --latent-dim 3 --epochs 102400 --batch-size 4096 \\\n",
    "        --input-prior 1 --output-prior 1 \\\n",
    "        --summary-dir mmvec_major_taxa"
   ]
  }
 ],
 "metadata": {
  "kernelspec": {
   "display_name": "Python [conda env:mmvec-env]",
   "language": "python",
   "name": "conda-env-mmvec-env-py"
  },
  "language_info": {
   "codemirror_mode": {
    "name": "ipython",
    "version": 3
   },
   "file_extension": ".py",
   "mimetype": "text/x-python",
   "name": "python",
   "nbconvert_exporter": "python",
   "pygments_lexer": "ipython3",
   "version": "3.6.13"
  },
  "toc-showtags": false
 },
 "nbformat": 4,
 "nbformat_minor": 5
}
